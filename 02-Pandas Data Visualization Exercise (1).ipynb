{
 "cells": [
  {
   "cell_type": "markdown",
   "id": "e640c229-2626-46d5-916b-690909116aaa",
   "metadata": {},
   "source": [
    "___\n",
    "\n",
    "<a href='http://www.pieriandata.com'> <img src='../Pierian_Data_Logo.png' /></a>\n",
    "___\n",
    "# Pandas Data Visualization Exercise\n",
    "\n",
    "This is just a quick exercise for you to review the various plots we showed earlier. Use **df3** to replicate the following plots. "
   ]
  },
  {
   "cell_type": "code",
   "execution_count": null,
   "id": "a85ce660",
   "metadata": {},
   "outputs": [],
   "source": [
    "# Install required libraries\n",
    "!pip install pandas matplotlib seaborn"
   ]
  },
  {
   "cell_type": "code",
   "execution_count": 9,
   "id": "8bc7423c-9840-49f3-9925-68dcfaa394f2",
   "metadata": {
    "collapsed": true,
    "jupyter": {
     "outputs_hidden": false
    },
    "microsoft": {
     "language": "python",
     "language_group": "synapse_pyspark"
    }
   },
   "outputs": [],
   "source": [
    "import pandas as pd\n",
    "import matplotlib.pyplot as plt\n",
    "# df3 = pd.read_csv('df3')\n",
    "# %matplotlib inline"
   ]
  },
  {
   "cell_type": "code",
   "execution_count": 23,
   "id": "d1167510-261b-43c4-8926-22d856bd82d1",
   "metadata": {
    "collapsed": false,
    "microsoft": {
     "language": "python",
     "language_group": "synapse_pyspark"
    }
   },
   "outputs": [
    {
     "data": {
      "text/html": [
       "<div>\n",
       "<style scoped>\n",
       "    .dataframe tbody tr th:only-of-type {\n",
       "        vertical-align: middle;\n",
       "    }\n",
       "\n",
       "    .dataframe tbody tr th {\n",
       "        vertical-align: top;\n",
       "    }\n",
       "\n",
       "    .dataframe thead th {\n",
       "        text-align: right;\n",
       "    }\n",
       "</style>\n",
       "<table border=\"1\" class=\"dataframe\">\n",
       "  <thead>\n",
       "    <tr style=\"text-align: right;\">\n",
       "      <th></th>\n",
       "      <th>a</th>\n",
       "      <th>b</th>\n",
       "      <th>c</th>\n",
       "      <th>d</th>\n",
       "    </tr>\n",
       "  </thead>\n",
       "  <tbody>\n",
       "    <tr>\n",
       "      <th>0</th>\n",
       "      <td>0.336272</td>\n",
       "      <td>0.325011</td>\n",
       "      <td>0.001020</td>\n",
       "      <td>0.401402</td>\n",
       "    </tr>\n",
       "    <tr>\n",
       "      <th>1</th>\n",
       "      <td>0.980265</td>\n",
       "      <td>0.831835</td>\n",
       "      <td>0.772288</td>\n",
       "      <td>0.076485</td>\n",
       "    </tr>\n",
       "    <tr>\n",
       "      <th>2</th>\n",
       "      <td>0.480387</td>\n",
       "      <td>0.686839</td>\n",
       "      <td>0.000575</td>\n",
       "      <td>0.746758</td>\n",
       "    </tr>\n",
       "    <tr>\n",
       "      <th>3</th>\n",
       "      <td>0.502106</td>\n",
       "      <td>0.305142</td>\n",
       "      <td>0.768608</td>\n",
       "      <td>0.654685</td>\n",
       "    </tr>\n",
       "    <tr>\n",
       "      <th>4</th>\n",
       "      <td>0.856602</td>\n",
       "      <td>0.171448</td>\n",
       "      <td>0.157971</td>\n",
       "      <td>0.321231</td>\n",
       "    </tr>\n",
       "    <tr>\n",
       "      <th>...</th>\n",
       "      <td>...</td>\n",
       "      <td>...</td>\n",
       "      <td>...</td>\n",
       "      <td>...</td>\n",
       "    </tr>\n",
       "    <tr>\n",
       "      <th>495</th>\n",
       "      <td>0.528705</td>\n",
       "      <td>0.226122</td>\n",
       "      <td>0.055835</td>\n",
       "      <td>0.131962</td>\n",
       "    </tr>\n",
       "    <tr>\n",
       "      <th>496</th>\n",
       "      <td>0.324730</td>\n",
       "      <td>0.215201</td>\n",
       "      <td>0.935302</td>\n",
       "      <td>0.794115</td>\n",
       "    </tr>\n",
       "    <tr>\n",
       "      <th>497</th>\n",
       "      <td>0.118036</td>\n",
       "      <td>0.264574</td>\n",
       "      <td>0.629206</td>\n",
       "      <td>0.824062</td>\n",
       "    </tr>\n",
       "    <tr>\n",
       "      <th>498</th>\n",
       "      <td>0.227021</td>\n",
       "      <td>0.660209</td>\n",
       "      <td>0.851353</td>\n",
       "      <td>0.478676</td>\n",
       "    </tr>\n",
       "    <tr>\n",
       "      <th>499</th>\n",
       "      <td>0.466157</td>\n",
       "      <td>0.753000</td>\n",
       "      <td>0.115391</td>\n",
       "      <td>0.279712</td>\n",
       "    </tr>\n",
       "  </tbody>\n",
       "</table>\n",
       "<p>500 rows × 4 columns</p>\n",
       "</div>"
      ],
      "text/plain": [
       "            a         b         c         d\n",
       "0    0.336272  0.325011  0.001020  0.401402\n",
       "1    0.980265  0.831835  0.772288  0.076485\n",
       "2    0.480387  0.686839  0.000575  0.746758\n",
       "3    0.502106  0.305142  0.768608  0.654685\n",
       "4    0.856602  0.171448  0.157971  0.321231\n",
       "..        ...       ...       ...       ...\n",
       "495  0.528705  0.226122  0.055835  0.131962\n",
       "496  0.324730  0.215201  0.935302  0.794115\n",
       "497  0.118036  0.264574  0.629206  0.824062\n",
       "498  0.227021  0.660209  0.851353  0.478676\n",
       "499  0.466157  0.753000  0.115391  0.279712\n",
       "\n",
       "[500 rows x 4 columns]"
      ]
     },
     "metadata": {},
     "output_type": "display_data"
    }
   ],
   "source": [
    "df3 = pd.read_csv('df3.txt')\n",
    "display(df3)"
   ]
  },
  {
   "cell_type": "code",
   "execution_count": 11,
   "id": "a1d1dab4-50a8-446a-a261-1a4274072693",
   "metadata": {
    "collapsed": false,
    "jupyter": {
     "outputs_hidden": false
    },
    "microsoft": {
     "language": "python",
     "language_group": "synapse_pyspark"
    }
   },
   "outputs": [
    {
     "name": "stdout",
     "output_type": "stream",
     "text": [
      "<class 'pandas.core.frame.DataFrame'>\n",
      "RangeIndex: 500 entries, 0 to 499\n",
      "Data columns (total 4 columns):\n",
      " #   Column  Non-Null Count  Dtype  \n",
      "---  ------  --------------  -----  \n",
      " 0   a       500 non-null    float64\n",
      " 1   b       500 non-null    float64\n",
      " 2   c       500 non-null    float64\n",
      " 3   d       500 non-null    float64\n",
      "dtypes: float64(4)\n",
      "memory usage: 15.8 KB\n"
     ]
    }
   ],
   "source": [
    "df3.info()"
   ]
  },
  {
   "cell_type": "code",
   "execution_count": 12,
   "id": "01519984-061a-44f6-8022-3ffb41e09dcf",
   "metadata": {
    "collapsed": false,
    "jupyter": {
     "outputs_hidden": false
    },
    "microsoft": {
     "language": "python",
     "language_group": "synapse_pyspark"
    }
   },
   "outputs": [
    {
     "data": {
      "text/html": [
       "<div>\n",
       "<style scoped>\n",
       "    .dataframe tbody tr th:only-of-type {\n",
       "        vertical-align: middle;\n",
       "    }\n",
       "\n",
       "    .dataframe tbody tr th {\n",
       "        vertical-align: top;\n",
       "    }\n",
       "\n",
       "    .dataframe thead th {\n",
       "        text-align: right;\n",
       "    }\n",
       "</style>\n",
       "<table border=\"1\" class=\"dataframe\">\n",
       "  <thead>\n",
       "    <tr style=\"text-align: right;\">\n",
       "      <th></th>\n",
       "      <th>a</th>\n",
       "      <th>b</th>\n",
       "      <th>c</th>\n",
       "      <th>d</th>\n",
       "    </tr>\n",
       "  </thead>\n",
       "  <tbody>\n",
       "    <tr>\n",
       "      <th>0</th>\n",
       "      <td>0.336272</td>\n",
       "      <td>0.325011</td>\n",
       "      <td>0.001020</td>\n",
       "      <td>0.401402</td>\n",
       "    </tr>\n",
       "    <tr>\n",
       "      <th>1</th>\n",
       "      <td>0.980265</td>\n",
       "      <td>0.831835</td>\n",
       "      <td>0.772288</td>\n",
       "      <td>0.076485</td>\n",
       "    </tr>\n",
       "    <tr>\n",
       "      <th>2</th>\n",
       "      <td>0.480387</td>\n",
       "      <td>0.686839</td>\n",
       "      <td>0.000575</td>\n",
       "      <td>0.746758</td>\n",
       "    </tr>\n",
       "    <tr>\n",
       "      <th>3</th>\n",
       "      <td>0.502106</td>\n",
       "      <td>0.305142</td>\n",
       "      <td>0.768608</td>\n",
       "      <td>0.654685</td>\n",
       "    </tr>\n",
       "    <tr>\n",
       "      <th>4</th>\n",
       "      <td>0.856602</td>\n",
       "      <td>0.171448</td>\n",
       "      <td>0.157971</td>\n",
       "      <td>0.321231</td>\n",
       "    </tr>\n",
       "  </tbody>\n",
       "</table>\n",
       "</div>"
      ],
      "text/plain": [
       "          a         b         c         d\n",
       "0  0.336272  0.325011  0.001020  0.401402\n",
       "1  0.980265  0.831835  0.772288  0.076485\n",
       "2  0.480387  0.686839  0.000575  0.746758\n",
       "3  0.502106  0.305142  0.768608  0.654685\n",
       "4  0.856602  0.171448  0.157971  0.321231"
      ]
     },
     "execution_count": 12,
     "metadata": {},
     "output_type": "execute_result"
    }
   ],
   "source": [
    "df3.head()"
   ]
  },
  {
   "cell_type": "markdown",
   "id": "22ed1cd3-2244-4a25-8d9e-05aa8c007fbc",
   "metadata": {},
   "source": [
    "** Recreate this scatter plot of b vs a. Note the color and size of the points. Also note the figure size. See if you can figure out how to stretch it in a similar fashion. Remeber back to your matplotlib lecture...**"
   ]
  },
  {
   "cell_type": "code",
   "execution_count": 13,
   "id": "1bb3f830-4eb7-443c-a3ce-3e1fa0c2e83a",
   "metadata": {
    "collapsed": false,
    "jupyter": {
     "outputs_hidden": false
    },
    "microsoft": {
     "language": "python",
     "language_group": "synapse_pyspark"
    }
   },
   "outputs": [
    {
     "data": {
      "image/png": "[encoded data removed]",
      "text/plain": [
       "<Figure size 800x600 with 1 Axes>"
      ]
     },
     "metadata": {},
     "output_type": "display_data"
    }
   ],
   "source": [
    "\n",
    "plt.figure(figsize=(8, 6))\n",
    "\n",
    "plt.scatter(df3['a'], df3['b'], color='red', s=50)\n",
    "\n",
    "plt.xlim(-0.2, 1.2)\n",
    "plt.ylim(-0.2, 1.2)\n",
    "plt.xlabel('a')\n",
    "plt.ylabel('b')\n",
    "\n",
    "plt.tight_layout()\n",
    "\n",
    "plt.show()"
   ]
  },
  {
   "cell_type": "markdown",
   "id": "a7d377a2-da22-4d5f-9404-4703e18ea2a5",
   "metadata": {},
   "source": [
    "** Create a histogram of the 'a' column.**"
   ]
  },
  {
   "cell_type": "code",
   "execution_count": 31,
   "id": "03c5ded9-2c2a-48dd-95bc-4fa9a22045ac",
   "metadata": {
    "collapsed": false,
    "jupyter": {
     "outputs_hidden": false
    },
    "microsoft": {
     "language": "python",
     "language_group": "synapse_pyspark"
    }
   },
   "outputs": [
    {
     "data": {
      "image/png": "[encoded data removed]",
      "text/plain": [
       "<Figure size 1100x800 with 1 Axes>"
      ]
     },
     "metadata": {},
     "output_type": "display_data"
    }
   ],
   "source": [
    "# Create a new figure with a specified size (width=11, height=8 inches)\n",
    "plt.figure(figsize=(11, 8))\n",
    "\n",
    "# Plot a histogram of the 'a' column from df3\n",
    "# - Use 10 bins\n",
    "# - Set the color of the bars to red\n",
    "# - Set the edge color of the bars to black for better visibility\n",
    "plt.hist(df3['a'], bins=10, color='red', edgecolor='black')\n",
    "\n",
    "# Set the x-axis label\n",
    "plt.xlabel('Value')\n",
    "\n",
    "# Set the y-axis label\n",
    "plt.ylabel('Frequency')\n",
    "\n",
    "# Set the limits of the x-axis from 0.0 to 1.0\n",
    "plt.xlim(0.0, 1.0)\n",
    "\n",
    "# Add a horizontal grid to the y-axis with some transparency\n",
    "plt.grid(True, axis='y', alpha=0.5)\n",
    "\n",
    "# Adjust the layout to prevent overlapping elements\n",
    "plt.tight_layout()\n",
    "\n",
    "# Display the plot\n",
    "plt.show()"
   ]
  },
  {
   "cell_type": "markdown",
   "id": "56d67f93-e26b-4d5b-8490-ecd365287307",
   "metadata": {},
   "source": [
    "** These plots are okay, but they don't look very polished. Use style sheets to set the style to 'ggplot' and redo the histogram from above. Also figure out how to add more bins to it.***"
   ]
  },
  {
   "cell_type": "code",
   "execution_count": 15,
   "id": "596482c3-abc0-41fb-b7c8-f7655557c4f8",
   "metadata": {
    "collapsed": true,
    "jupyter": {
     "outputs_hidden": false
    },
    "microsoft": {
     "language": "python",
     "language_group": "synapse_pyspark"
    }
   },
   "outputs": [
    {
     "data": {
      "image/png": "[encoded data removed]",
      "text/plain": [
       "<Figure size 1000x600 with 1 Axes>"
      ]
     },
     "metadata": {},
     "output_type": "display_data"
    }
   ],
   "source": [
    "plt.style.use('ggplot')\n",
    "\n",
    "plt.figure(figsize=(10, 6), dpi=100)\n",
    "\n",
    "n, bins, patches = plt.hist(df3['a'], \n",
    "                           bins=15,\n",
    "                           color='#4C72B0',\n",
    "                           edgecolor='white',\n",
    "                           linewidth=1.2,\n",
    "                           alpha=0.9)\n",
    "\n",
    "plt.title('Distribution of Column \"a\" Values', \n",
    "          fontsize=14, pad=20)\n",
    "plt.xlabel('Value Bins', fontsize=12, labelpad=10)\n",
    "plt.ylabel('Frequency', fontsize=12, labelpad=10)\n",
    "\n",
    "plt.xticks(fontsize=10)\n",
    "plt.yticks(fontsize=10)\n",
    "plt.grid(True, alpha=0.3)\n",
    "\n",
    "for i in range(len(patches)):\n",
    "    plt.text(patches[i].get_x() + patches[i].get_width()/2, \n",
    "             patches[i].get_height()+0.5, \n",
    "             str(int(n[i])),\n",
    "             ha='center',\n",
    "             fontsize=9)\n",
    "\n",
    "plt.xlim(0, 1.0)\n",
    "plt.ylim(0, max(n)+1)\n",
    "plt.tight_layout()\n",
    "\n",
    "plt.show()"
   ]
  },
  {
   "cell_type": "markdown",
   "id": "4ddd6f5b-1844-482f-93d0-a6e4bbda8db8",
   "metadata": {},
   "source": [
    "** Create a boxplot comparing the a and b columns.**"
   ]
  },
  {
   "cell_type": "code",
   "execution_count": 16,
   "id": "63a4b493-2830-4332-903c-75e8511752c9",
   "metadata": {
    "collapsed": false,
    "jupyter": {
     "outputs_hidden": false
    },
    "microsoft": {
     "language": "python",
     "language_group": "synapse_pyspark"
    }
   },
   "outputs": [
    {
     "name": "stderr",
     "output_type": "stream",
     "text": [
      "C:\\Users\\HP ProBook\\AppData\\Local\\Temp\\ipykernel_25532\\2650677948.py:5: MatplotlibDeprecationWarning: The 'labels' parameter of boxplot() has been renamed 'tick_labels' since Matplotlib 3.9; support for the old name will be dropped in 3.11.\n",
      "  bp = plt.boxplot([df3['a'], df3['b']],\n"
     ]
    },
    {
     "data": {
      "image/png": "[encoded data removed]",
      "text/plain": [
       "<Figure size 800x600 with 1 Axes>"
      ]
     },
     "metadata": {},
     "output_type": "display_data"
    }
   ],
   "source": [
    "plt.style.use('ggplot')\n",
    "\n",
    "plt.figure(figsize=(8, 6), dpi=100)\n",
    "\n",
    "bp = plt.boxplot([df3['a'], df3['b']], \n",
    "                 patch_artist=True,\n",
    "                 labels=['Column a', 'Column b'],\n",
    "                 widths=0.6,\n",
    "                 showmeans=True,\n",
    "                 meanprops={'marker':'D', \n",
    "                           'markerfacecolor':'white', \n",
    "                           'markeredgecolor':'black'})\n",
    "\n",
    "colors = ['#4C72B0', '#DD8452']\n",
    "for patch, color in zip(bp['boxes'], colors):\n",
    "    patch.set_facecolor(color)\n",
    "    patch.set_alpha(0.8)\n",
    "\n",
    "plt.setp(bp['whiskers'], color='gray', linestyle='-')\n",
    "plt.setp(bp['medians'], color='black', linewidth=1.5)\n",
    "\n",
    "plt.title('Comparison of Columns a and b', fontsize=14, pad=15)\n",
    "plt.ylabel('Values', fontsize=12, labelpad=10)\n",
    "\n",
    "plt.grid(True, axis='y', alpha=0.3)\n",
    "plt.tight_layout()\n",
    "\n",
    "plt.show()"
   ]
  },
  {
   "cell_type": "markdown",
   "id": "bb1b2a5c-d7e9-41f0-a9e4-a51e230b1944",
   "metadata": {},
   "source": [
    "** Create a kde plot of the 'd' column **"
   ]
  },
  {
   "cell_type": "code",
   "execution_count": 32,
   "id": "e5d3140a-a4c8-47a3-b956-07d880556cd7",
   "metadata": {
    "collapsed": false,
    "jupyter": {
     "outputs_hidden": false
    },
    "microsoft": {
     "language": "python",
     "language_group": "synapse_pyspark"
    }
   },
   "outputs": [
    {
     "data": {
      "image/png": "[encoded data removed]",
      "text/plain": [
       "<Figure size 1000x600 with 1 Axes>"
      ]
     },
     "metadata": {},
     "output_type": "display_data"
    }
   ],
   "source": [
    "# Import seaborn for advanced statistical plotting\n",
    "import seaborn as sns\n",
    "\n",
    "# Set the plot style to 'ggplot' for a clean, professional look\n",
    "plt.style.use('ggplot')\n",
    "\n",
    "# Create a new figure with a specified size and resolution\n",
    "plt.figure(figsize=(10, 6), dpi=100)\n",
    "\n",
    "# Create a Kernel Density Estimate (KDE) plot for the 'd' column in df3\n",
    "# - Use a green color for the line\n",
    "# - Set the line width to 2.5\n",
    "# - Fill the area under the curve with some transparency\n",
    "# - Add a black edge color for the filled area\n",
    "sns.kdeplot(\n",
    "    data=df3, \n",
    "    x='d', \n",
    "    color='#55A868',      # Green color for the KDE line\n",
    "    linewidth=2.5,        # Line width\n",
    "    fill=True,            # Fill under the curve\n",
    "    alpha=0.25,           # Transparency for the fill\n",
    "    edgecolor='black'     # Edge color for the fill\n",
    ")\n",
    "\n",
    "# Add a descriptive title and axis labels with custom font sizes and padding\n",
    "plt.title('Density Distribution of Column d Values', fontsize=14, pad=15)\n",
    "plt.xlabel('Value', fontsize=12, labelpad=10)\n",
    "plt.ylabel('Density', fontsize=12, labelpad=10)\n",
    "\n",
    "# Customize the tick labels and add a grid for better readability\n",
    "plt.xticks(fontsize=10)\n",
    "plt.yticks(fontsize=10)\n",
    "plt.grid(True, alpha=0.3)\n",
    "\n",
    "# Calculate the mean of column 'd' and add a vertical dashed line at the mean\n",
    "mean_val = df3['d'].mean()\n",
    "plt.axvline(mean_val, color='#C44E52', linestyle='--', linewidth=1.5)\n",
    "\n",
    "# Annotate the mean value on the plot\n",
    "plt.text(\n",
    "    mean_val + 0.05, plt.ylim()[1] * 0.9, \n",
    "    f'Mean: {mean_val:.2f}', \n",
    "    color='#C44E52',\n",
    "    fontsize=11\n",
    ")\n",
    "\n",
    "# Adjust the layout to prevent overlapping elements\n",
    "plt.tight_layout()\n",
    "\n",
    "# Display the plot\n",
    "plt.show()"
   ]
  },
  {
   "cell_type": "markdown",
   "id": "44a1c906-ad72-4f1c-8b13-791be0e753b4",
   "metadata": {},
   "source": [
    "** Figure out how to increase the linewidth and make the linestyle dashed. (Note: You would usually not dash a kde plot line)**"
   ]
  },
  {
   "cell_type": "code",
   "execution_count": 34,
   "id": "76a5a176-2520-44f0-832f-0145091214f8",
   "metadata": {
    "collapsed": false,
    "jupyter": {
     "outputs_hidden": false
    },
    "microsoft": {
     "language": "python",
     "language_group": "synapse_pyspark"
    }
   },
   "outputs": [
    {
     "data": {
      "image/png": "[encoded data removed]",
      "text/plain": [
       "<Figure size 1000x600 with 1 Axes>"
      ]
     },
     "metadata": {},
     "output_type": "display_data"
    }
   ],
   "source": [
    "# Set the plot style to 'ggplot' for a clean, professional look\n",
    "plt.style.use('ggplot')\n",
    "\n",
    "# Create a new figure with a specified size and resolution\n",
    "plt.figure(figsize=(10, 6), dpi=100)\n",
    "\n",
    "# Create a Kernel Density Estimate (KDE) plot for the 'd' column in df3\n",
    "# - Use a green color for the line\n",
    "# - Set the line width to 3.5 for emphasis\n",
    "# - Make the line dashed using linestyle='--'\n",
    "# - Do not fill under the curve (fill=False)\n",
    "# - Set transparency with alpha\n",
    "sns.kdeplot(\n",
    "    data=df3,\n",
    "    x='d',\n",
    "    color='#55A868',      # Green color for the KDE line\n",
    "    linewidth=3.5,        # Thicker line\n",
    "    linestyle='--',       # Dashed line style\n",
    "    fill=False,           # No fill under the curve\n",
    "    alpha=0.8             # Line transparency\n",
    ")\n",
    "\n",
    "# Add a descriptive title and axis labels with custom font sizes and padding\n",
    "plt.title('Modified KDE Plot of Column d', fontsize=14, pad=15)\n",
    "plt.xlabel('Value', fontsize=12, labelpad=10)\n",
    "plt.ylabel('Density', fontsize=12, labelpad=10)\n",
    "\n",
    "# Customize the tick labels and add a grid for better readability\n",
    "plt.xticks(fontsize=10)\n",
    "plt.yticks(fontsize=10)\n",
    "plt.grid(True, alpha=0.3)\n",
    "\n",
    "# Calculate the mean of column 'd' and add a vertical solid line at the mean for contrast\n",
    "mean_val = df3['d'].mean()\n",
    "plt.axvline(mean_val, color='#C44E52', linestyle='-', linewidth=2)\n",
    "\n",
    "# Annotate the mean value on the plot\n",
    "plt.text(\n",
    "    mean_val + 0.05, plt.ylim()[1]*0.9,\n",
    "    f'Mean: {mean_val:.2f}',\n",
    "    color='#C44E52',\n",
    "    fontsize=11\n",
    ")\n",
    "\n",
    "# Adjust the layout to prevent overlapping elements\n",
    "plt.tight_layout()\n",
    "\n",
    "# Display the plot\n",
    "plt.show()"
   ]
  },
  {
   "cell_type": "markdown",
   "id": "f4e2ff2a-6b7f-490d-9d63-b5e0cb415930",
   "metadata": {},
   "source": [
    "** Create an area plot of all the columns for just the rows up to 30. (hint: use .ix).**"
   ]
  },
  {
   "cell_type": "code",
   "execution_count": 19,
   "id": "f9340eeb-2cd3-468c-83a9-c6200f2180a4",
   "metadata": {
    "collapsed": false,
    "jupyter": {
     "outputs_hidden": false,
     "source_hidden": false
    },
    "microsoft": {
     "language": "python",
     "language_group": "synapse_pyspark"
    }
   },
   "outputs": [
    {
     "data": {
      "image/png": "[encoded data removed]",
      "text/plain": [
       "<Figure size 1000x600 with 1 Axes>"
      ]
     },
     "metadata": {},
     "output_type": "display_data"
    }
   ],
   "source": [
    "plt.style.use('ggplot')\n",
    "\n",
    "plot_data = df3.loc[:30]\n",
    "\n",
    "# Create area plot\n",
    "plt.figure(figsize=(10, 6), dpi=100)\n",
    "plt.stackplot(range(len(plot_data)), \n",
    "             plot_data['a'], plot_data['b'], \n",
    "             plot_data['c'], plot_data['d'],\n",
    "             labels=['a', 'b', 'c', 'd'],\n",
    "             colors=['#4C72B0', '#55A868', '#C44E52', '#8172B2'],\n",
    "             alpha=0.8)\n",
    "\n",
    "# Add title and labels\n",
    "plt.title('Area Plot of Columns a-d', fontsize=14, pad=15)\n",
    "plt.xlabel('Row Index', fontsize=12, labelpad=10)\n",
    "plt.ylabel('Values', fontsize=12, labelpad=10)\n",
    "\n",
    "# Customize ticks and legend\n",
    "plt.xticks(fontsize=10)\n",
    "plt.yticks(fontsize=10)\n",
    "plt.legend(loc='upper right', fontsize=10)\n",
    "plt.grid(True, alpha=0.3)\n",
    "\n",
    "# Adjust layout\n",
    "plt.tight_layout()\n",
    "plt.show()"
   ]
  },
  {
   "cell_type": "markdown",
   "id": "57017d23-a841-4ef9-9c5b-23c8d1a5e076",
   "metadata": {},
   "source": [
    "## Bonus Challenge!\n",
    "Note, you may find this really hard, reference the solutions if you can't figure it out!\n",
    "** Notice how the legend in our previous figure overlapped some of actual diagram. Can you figure out how to display the legend outside of the plot as shown below?**\n",
    "\n",
    "** Try searching Google for a good stackoverflow link on this topic. If you can't find it on your own - [use this one for a hint.](http://stackoverflow.com/questions/23556153/how-to-put-legend-outside-the-plot-with-pandas)**"
   ]
  },
  {
   "cell_type": "code",
   "execution_count": 20,
   "id": "9d37ff07-8997-4138-bb5b-4c41dbedd4c1",
   "metadata": {
    "collapsed": false,
    "jupyter": {
     "outputs_hidden": false
    },
    "microsoft": {
     "language": "python",
     "language_group": "synapse_pyspark"
    }
   },
   "outputs": [
    {
     "data": {
      "image/png": "[encoded data removed]",
      "text/plain": [
       "<Figure size 1200x600 with 1 Axes>"
      ]
     },
     "metadata": {},
     "output_type": "display_data"
    }
   ],
   "source": [
    "plt.style.use('ggplot')\n",
    "\n",
    "plt.figure(figsize=(12, 6), dpi=100)  # Wider figure\n",
    "\n",
    "# Create area plot\n",
    "stack = plt.stackplot(range(len(df3)), \n",
    "                     df3['a'], df3['b'], \n",
    "                     df3['c'], df3['d'],\n",
    "                     labels=['a', 'b', 'c', 'd'],\n",
    "                     colors=['#4C72B0', '#55A868', '#C44E52', '#8172B2'],\n",
    "                     alpha=0.8)\n",
    "\n",
    "# Add title and labels\n",
    "plt.title('Area Plot of Columns a-d with External Legend', fontsize=14, pad=15)\n",
    "plt.xlabel('Row Index', fontsize=12, labelpad=10)\n",
    "plt.ylabel('Values', fontsize=12, labelpad=10)\n",
    "\n",
    "# Customize ticks and grid\n",
    "plt.xticks(fontsize=10)\n",
    "plt.yticks(fontsize=10)\n",
    "plt.grid(True, alpha=0.3)\n",
    "\n",
    "# Move legend outside the plot area\n",
    "plt.legend(bbox_to_anchor=(1.02, 1),  # Positions legend outside top-right\n",
    "           loc='upper left', \n",
    "           borderaxespad=0.,\n",
    "           fontsize=10,\n",
    "           frameon=True)\n",
    "\n",
    "# Adjust layout to make room for the legend\n",
    "plt.tight_layout(rect=[0, 0, 0.85, 1])  # Right side padding\n",
    "\n",
    "plt.show()"
   ]
  },
  {
   "cell_type": "markdown",
   "id": "267a513e-ac25-43ab-9d55-3936a4d785ec",
   "metadata": {},
   "source": [
    "# Great Job!"
   ]
  }
 ],
 "metadata": {
  "dependencies": {
   "lakehouse": {
    "default_lakehouse": "98960d52-4636-4c85-96b3-0a578b17f2c1",
    "default_lakehouse_name": "PDS_Lakehouse",
    "default_lakehouse_workspace_id": "f35712cd-01da-42d5-b16b-0aa57aca3b17",
    "known_lakehouses": [
     {
      "id": "98960d52-4636-4c85-96b3-0a578b17f2c1"
     }
    ]
   }
  },
  "kernel_info": {
   "name": "synapse_pyspark"
  },
  "kernelspec": {
   "display_name": "Python 3",
   "language": "python",
   "name": "python3"
  },
  "language_info": {
   "codemirror_mode": {
    "name": "ipython",
    "version": 3
   },
   "file_extension": ".py",
   "mimetype": "text/x-python",
   "name": "python",
   "nbconvert_exporter": "python",
   "pygments_lexer": "ipython3",
   "version": "3.11.4"
  },
  "microsoft": {
   "language": "python",
   "language_group": "synapse_pyspark",
   "ms_spell_check": {
    "ms_spell_check_language": "en"
   }
  },
  "nteract": {
   "version": "nteract-front-end@1.0.0"
  },
  "spark_compute": {
   "compute_id": "/trident/default",
   "session_options": {
    "conf": {
     "spark.synapse.nbs.session.timeout": "1200000"
    }
   }
  },
  "synapse_widget": {
   "state": {
    "8cc00454-1079-425c-95e8-ba26a886812a": {
     "persist_state": {
      "view": {
       "chartOptions": {
        "aggregationType": "sum",
        "binsNumber": 10,
        "categoryFieldKeys": [],
        "chartType": "bar",
        "isStacked": false,
        "seriesFieldKeys": [],
        "wordFrequency": "-1"
       },
       "tableOptions": {},
       "type": "details",
       "viewOptionsGroup": [
        {
         "tabItems": [
          {
           "key": "0",
           "name": "Table",
           "options": {},
           "type": "table"
          }
         ]
        }
       ]
      }
     },
     "sync_state": {
      "isSummary": false,
      "language": "python",
      "table": {
       "rows": [
        {
         "0": "0.3362723364",
         "1": "0.3250110687",
         "2": "0.0010196408",
         "3": "0.4014018972"
        },
        {
         "0": "0.9802649684",
         "1": "0.831835355",
         "2": "0.7722883679",
         "3": "0.0764853767"
        },
        {
         "0": "0.4803872426",
         "1": "0.6868393728",
         "2": "0.000574653",
         "3": "0.7467584766"
        },
        {
         "0": "0.5021060967",
         "1": "0.3051415891",
         "2": "0.7686084672",
         "3": "0.6546852"
        },
        {
         "0": "0.8566020375",
         "1": "0.1714484288",
         "2": "0.1579712922",
         "3": "0.3212314832"
        },
        {
         "0": "0.7059734811",
         "1": "0.6326888751",
         "2": "0.5040165014",
         "3": "0.3136221379"
        },
        {
         "0": "0.1667244159",
         "1": "0.2697337552",
         "2": "0.6085693622",
         "3": "0.874427131"
        },
        {
         "0": "0.0540405931",
         "1": "0.9664396928",
         "2": "0.0655957039",
         "3": "0.1094481424"
        },
        {
         "0": "0.7578390928",
         "1": "0.5238852911",
         "2": "0.5272102788",
         "3": "0.2269364792"
        },
        {
         "0": "0.4253833222",
         "1": "0.2137012562",
         "2": "0.0490201566",
         "3": "0.2875979408"
        },
        {
         "0": "0.1768368095",
         "1": "0.166533566",
         "2": "0.7793735548",
         "3": "0.9364861878"
        },
        {
         "0": "0.2215458546",
         "1": "0.660821375",
         "2": "0.8117815898",
         "3": "0.3925650131"
        },
        {
         "0": "0.00135037",
         "1": "0.4501858935",
         "2": "0.0764694643",
         "3": "0.7533679412"
        },
        {
         "0": "0.5373231465",
         "1": "0.6237788989",
         "2": "0.0718513575",
         "3": "0.751200051"
        },
        {
         "0": "0.0322840042",
         "1": "0.0501819121",
         "2": "0.8975624867",
         "3": "0.6141292789"
        },
        {
         "0": "0.488804233",
         "1": "0.0913743858",
         "2": "0.2038030648",
         "3": "0.1797079498"
        },
        {
         "0": "0.8211155924",
         "1": "0.1914067051",
         "2": "0.7569623666",
         "3": "0.5923832773"
        },
        {
         "0": "0.2026986894",
         "1": "0.1039781447",
         "2": "0.3422364309",
         "3": "0.7876262313"
        },
        {
         "0": "0.1852175214",
         "1": "0.7515544279",
         "2": "0.6127372143",
         "3": "0.08842911"
        },
        {
         "0": "0.842810326",
         "1": "0.8423568832",
         "2": "0.2065885639",
         "3": "0.3899396257"
        },
        {
         "0": "0.8440331226",
         "1": "0.4499813872",
         "2": "0.1321975842",
         "3": "0.1039382925"
        },
        {
         "0": "0.1638779911",
         "1": "0.1123539278",
         "2": "0.2190873454",
         "3": "0.0593269476"
        },
        {
         "0": "0.3319021921",
         "1": "0.8080268099",
         "2": "0.5101723812",
         "3": "0.3875393176"
        },
        {
         "0": "0.5016420034",
         "1": "0.9413004248",
         "2": "0.3237529405",
         "3": "0.6909106696"
        },
        {
         "0": "0.3715195522",
         "1": "0.8763309746",
         "2": "0.1443575189",
         "3": "0.5945854325"
        },
        {
         "0": "0.9943289797",
         "1": "0.4147718333",
         "2": "0.4402798249",
         "3": "0.5476511262"
        },
        {
         "0": "0.0067997131",
         "1": "0.4603723952",
         "2": "0.0918694668",
         "3": "0.5517256897"
        },
        {
         "0": "0.2038574471",
         "1": "0.3080692278",
         "2": "0.2407559727",
         "3": "0.980956634"
        },
        {
         "0": "0.6057790651",
         "1": "0.3807637128",
         "2": "0.7929227834",
         "3": "0.8916493534"
        },
        {
         "0": "0.4773044458",
         "1": "0.1834892123",
         "2": "0.8665347876",
         "3": "0.2011535525"
        },
        {
         "0": "0.5562623859",
         "1": "0.127412511",
         "2": "0.56689729",
         "3": "0.3758283144"
        },
        {
         "0": "0.6094551685",
         "1": "0.4238303849",
         "2": "0.0631288835",
         "3": "0.9296411625"
        },
        {
         "0": "0.2830144384",
         "1": "0.3499472514",
         "2": "0.7866534502",
         "3": "0.5685738387"
        },
        {
         "0": "0.6083096069",
         "1": "0.8547908027",
         "2": "0.1394453009",
         "3": "0.4875846563"
        },
        {
         "0": "0.7950019426",
         "1": "0.9213101744",
         "2": "0.7131410422",
         "3": "0.6854997472"
        },
        {
         "0": "0.7029167242",
         "1": "0.9942208896",
         "2": "0.1578293249",
         "3": "0.7526027061"
        },
        {
         "0": "0.0093222856",
         "1": "0.8523851062",
         "2": "0.9869823483",
         "3": "0.3413654401"
        },
        {
         "0": "0.128520804",
         "1": "0.5962412403",
         "2": "0.3968413103",
         "3": "0.784855286"
        },
        {
         "0": "0.0022364488",
         "1": "0.563735647",
         "2": "0.8886645729",
         "3": "0.3738648523"
        },
        {
         "0": "0.7842827419",
         "1": "0.4992192667",
         "2": "0.4517023265",
         "3": "0.377078755"
        },
        {
         "0": "0.9158907843",
         "1": "0.6409957559",
         "2": "0.4956877391",
         "3": "0.2017170937"
        },
        {
         "0": "0.1949721879",
         "1": "0.0779997728",
         "2": "0.4516462653",
         "3": "0.4156964312"
        },
        {
         "0": "0.1813240056",
         "1": "0.5661707176",
         "2": "0.6056319812",
         "3": "0.416567577"
        },
        {
         "0": "0.3848877314",
         "1": "0.9821137123",
         "2": "0.5027171764",
         "3": "0.8135781539"
        },
        {
         "0": "0.2932146808",
         "1": "0.1317842566",
         "2": "0.6533587395",
         "3": "0.9163419034"
        },
        {
         "0": "0.2404996444",
         "1": "0.2583681501",
         "2": "0.857672135",
         "3": "0.6353489073"
        },
        {
         "0": "0.7845072208",
         "1": "0.5549383923",
         "2": "0.943035988",
         "3": "0.0209171797"
        },
        {
         "0": "0.4890808014",
         "1": "0.6437666546",
         "2": "0.0466445052",
         "3": "0.9578885394"
        },
        {
         "0": "0.4228457629",
         "1": "0.8689120616",
         "2": "0.7972507966",
         "3": "0.0198569665"
        },
        {
         "0": "0.924186749",
         "1": "0.4185008058",
         "2": "0.4394385763",
         "3": "0.8024008069"
        },
        {
         "0": "0.8305625919",
         "1": "0.3108978273",
         "2": "0.6129356703",
         "3": "0.8716646406"
        },
        {
         "0": "0.0959433692",
         "1": "0.0190401529",
         "2": "0.8979912879",
         "3": "0.8430887206"
        },
        {
         "0": "0.0093279869",
         "1": "0.8866217729",
         "2": "0.4970262703",
         "3": "0.5585917931"
        },
        {
         "0": "0.7659452276",
         "1": "0.0210811255",
         "2": "0.0537945118",
         "3": "0.1318208839"
        },
        {
         "0": "0.5137324258",
         "1": "0.0350742977",
         "2": "0.6188835497",
         "3": "0.4741211235"
        },
        {
         "0": "0.1135848655",
         "1": "0.5406403944",
         "2": "0.0729449248",
         "3": "0.5527552832"
        },
        {
         "0": "0.0895674887",
         "1": "0.116549225",
         "2": "0.4626665213",
         "3": "0.3264260289"
        },
        {
         "0": "0.4211171587",
         "1": "0.6632165455",
         "2": "0.6309662913",
         "3": "0.8286446437"
        },
        {
         "0": "0.5637355342",
         "1": "0.9629205938",
         "2": "0.4883610215",
         "3": "0.1793018527"
        },
        {
         "0": "0.5665145754",
         "1": "0.4746589228",
         "2": "0.7069399195",
         "3": "0.6843231102"
        },
        {
         "0": "0.7919669844",
         "1": "0.4128671735",
         "2": "0.2199075673",
         "3": "0.7190515874"
        },
        {
         "0": "0.4540253976",
         "1": "0.8591098044",
         "2": "0.0564159336",
         "3": "0.0524999414"
        },
        {
         "0": "0.8676454048",
         "1": "0.8060309968",
         "2": "0.7976554814",
         "3": "0.3095319522"
        },
        {
         "0": "0.4034305636",
         "1": "0.0361341846",
         "2": "0.3325763107",
         "3": "0.9512794916"
        },
        {
         "0": "0.2065324182",
         "1": "0.6811942258",
         "2": "0.1388068479",
         "3": "0.9074495293"
        },
        {
         "0": "0.9099121744",
         "1": "0.6749347934",
         "2": "0.7193643552",
         "3": "0.5879654996"
        },
        {
         "0": "0.9521397234",
         "1": "0.3402404046",
         "2": "0.7324666462",
         "3": "0.8387632212"
        },
        {
         "0": "0.8421351523",
         "1": "0.9612201386",
         "2": "0.4778471185",
         "3": "0.5306040734"
        },
        {
         "0": "0.7258327483",
         "1": "0.1274059084",
         "2": "0.5227115975",
         "3": "0.9165137051"
        },
        {
         "0": "0.3972623094",
         "1": "0.920527092",
         "2": "0.3789031508",
         "3": "0.8293212928"
        },
        {
         "0": "0.5096842993",
         "1": "0.3449215683",
         "2": "0.2197239243",
         "3": "0.3239206526"
        },
        {
         "0": "0.4192361069",
         "1": "0.2031688904",
         "2": "0.6723821379",
         "3": "0.8138336994"
        },
        {
         "0": "0.5401022043",
         "1": "0.9921912473",
         "2": "0.0715526482",
         "3": "0.2223520569"
        },
        {
         "0": "0.632623197",
         "1": "0.6711395742",
         "2": "0.5362098362",
         "3": "0.1269112826"
        },
        {
         "0": "0.0767867396",
         "1": "0.3565016862",
         "2": "0.2538844176",
         "3": "0.4242950025"
        },
        {
         "0": "0.4874105739",
         "1": "0.252713936",
         "2": "0.712080395",
         "3": "0.6989636413"
        },
        {
         "0": "0.8653511235",
         "1": "0.4727668325",
         "2": "0.3493656099",
         "3": "0.9704885844"
        },
        {
         "0": "0.1752233197",
         "1": "0.8580306981",
         "2": "0.0141616411",
         "3": "0.9590157903"
        },
        {
         "0": "0.5219950451",
         "1": "0.5642924829",
         "2": "0.9918075931",
         "3": "0.8793987669"
        },
        {
         "0": "0.854185169",
         "1": "0.4312804456",
         "2": "0.9057447903",
         "3": "0.8400308136"
        },
        {
         "0": "0.2496215216",
         "1": "0.2997609345",
         "2": "0.0166598016",
         "3": "0.6113981829"
        },
        {
         "0": "0.5256246254",
         "1": "0.7025797018",
         "2": "0.4537014727",
         "3": "0.2184701812"
        },
        {
         "0": "0.7773168863",
         "1": "0.5807690145",
         "2": "0.0591768156",
         "3": "0.1220714922"
        },
        {
         "0": "0.2969398694",
         "1": "0.7101837014",
         "2": "0.1026456615",
         "3": "0.0380266365"
        },
        {
         "0": "0.1317472664",
         "1": "0.4049640421",
         "2": "0.1026563949",
         "3": "0.631335686"
        },
        {
         "0": "0.5774537614",
         "1": "0.7950091343",
         "2": "0.6254072054",
         "3": "0.7828805814"
        },
        {
         "0": "0.4569088828",
         "1": "0.3368057405",
         "2": "0.7644526824",
         "3": "0.7169545581"
        },
        {
         "0": "0.0440520928",
         "1": "0.2643936018",
         "2": "0.9125333462",
         "3": "0.1491410397"
        },
        {
         "0": "0.9507443774",
         "1": "0.02760061",
         "2": "0.8764198054",
         "3": "0.8794440048"
        },
        {
         "0": "0.5842083305",
         "1": "0.6274659946",
         "2": "0.5367451676",
         "3": "0.3928892159"
        },
        {
         "0": "0.8955122098",
         "1": "0.7537782107",
         "2": "0.1604911709",
         "3": "0.5859829839"
        },
        {
         "0": "0.5952961819",
         "1": "0.7468739883",
         "2": "0.2427568115",
         "3": "0.5290670496"
        },
        {
         "0": "0.8312535243",
         "1": "0.1917211522",
         "2": "0.9220747852",
         "3": "0.1970401676"
        },
        {
         "0": "0.4614763566",
         "1": "0.2036694442",
         "2": "0.9732520839",
         "3": "0.092244538"
        },
        {
         "0": "0.0916489664",
         "1": "0.5623431917",
         "2": "0.0322642266",
         "3": "0.0915076126"
        },
        {
         "0": "0.0027739897",
         "1": "0.4861197118",
         "2": "0.2969232877",
         "3": "0.1434943254"
        },
        {
         "0": "0.5654476076",
         "1": "0.0293798599",
         "2": "0.9763755947",
         "3": "0.8867719188"
        },
        {
         "0": "0.2970657039",
         "1": "0.6517747699",
         "2": "0.8441592978",
         "3": "0.918900706"
        },
        {
         "0": "0.1875909229",
         "1": "0.5612541486",
         "2": "0.2443218373",
         "3": "0.8822158061"
        },
        {
         "0": "0.4860571001",
         "1": "0.2611925265",
         "2": "0.6175926575",
         "3": "0.8091933051"
        },
        {
         "0": "0.0603443738",
         "1": "0.5013711742",
         "2": "0.8991711485",
         "3": "0.2201862984"
        },
        {
         "0": "0.2553559006",
         "1": "0.3516679243",
         "2": "0.5364893477",
         "3": "0.0370110275"
        },
        {
         "0": "0.3132868836",
         "1": "0.4763862835",
         "2": "0.9202864659",
         "3": "0.7631840376"
        },
        {
         "0": "0.104318533",
         "1": "0.2851353343",
         "2": "0.4177543733",
         "3": "0.516107006"
        },
        {
         "0": "0.4292095394",
         "1": "0.6462710684",
         "2": "0.5332567085",
         "3": "0.2832332117"
        },
        {
         "0": "0.6125472392",
         "1": "0.9333035763",
         "2": "0.3152303714",
         "3": "0.5077422638"
        },
        {
         "0": "0.4626467454",
         "1": "0.7057207724",
         "2": "0.9477992611",
         "3": "0.4118193506"
        },
        {
         "0": "0.7069326446",
         "1": "0.6083604273",
         "2": "0.6411963089",
         "3": "0.8910570723"
        },
        {
         "0": "0.3573871955",
         "1": "0.1749638427",
         "2": "0.7126113738",
         "3": "0.3418569615"
        },
        {
         "0": "0.8996328041",
         "1": "0.0721555381",
         "2": "0.950727768",
         "3": "0.0143000485"
        },
        {
         "0": "0.0472414143",
         "1": "0.2446685384",
         "2": "0.0776206656",
         "3": "0.7853375045"
        },
        {
         "0": "0.1608588043",
         "1": "0.5143846891",
         "2": "0.1229748833",
         "3": "0.8819848358"
        },
        {
         "0": "0.4214259207",
         "1": "0.1228731762",
         "2": "0.3011417843",
         "3": "0.7939797237"
        },
        {
         "0": "0.8815288738",
         "1": "0.3915155978",
         "2": "0.6958394711",
         "3": "0.7814010011"
        },
        {
         "0": "0.4439433289",
         "1": "0.0755306872",
         "2": "0.3727552878",
         "3": "0.7615758767"
        },
        {
         "0": "0.374409464",
         "1": "0.5818786973",
         "2": "0.0837724788",
         "3": "0.3683448658"
        },
        {
         "0": "0.9899294933",
         "1": "0.1187671467",
         "2": "0.4014778192",
         "3": "0.5685096489"
        },
        {
         "0": "0.069157707",
         "1": "0.6090114308",
         "2": "0.6220271462",
         "3": "0.5595857153"
        },
        {
         "0": "0.1595540548",
         "1": "0.7359109919",
         "2": "0.5084386068",
         "3": "0.7045890693"
        },
        {
         "0": "0.2329678748",
         "1": "0.0325927019",
         "2": "0.3399586944",
         "3": "0.0564522418"
        },
        {
         "0": "0.9886431071",
         "1": "0.7427660704",
         "2": "0.031265351",
         "3": "0.7292813742"
        },
        {
         "0": "0.2576114023",
         "1": "0.9690281519",
         "2": "0.2205030584",
         "3": "0.1340893432"
        },
        {
         "0": "0.4871287751",
         "1": "0.4065577726",
         "2": "0.5439985357",
         "3": "0.6179781656"
        },
        {
         "0": "0.0245310891",
         "1": "0.7449006851",
         "2": "0.0166489984",
         "3": "0.7632656213"
        },
        {
         "0": "0.0324980287",
         "1": "0.0296540175",
         "2": "0.1459843522",
         "3": "0.6408019322"
        },
        {
         "0": "0.3532835866",
         "1": "0.4939428605",
         "2": "0.3473581715",
         "3": "0.9615931875"
        },
        {
         "0": "0.2918184026",
         "1": "0.8537398124",
         "2": "0.6155473636",
         "3": "0.3552247356"
        },
        {
         "0": "0.1270379268",
         "1": "0.1259917815",
         "2": "0.4336252646",
         "3": "0.3654410054"
        },
        {
         "0": "0.6810643436",
         "1": "0.3148121151",
         "2": "0.3993354647",
         "3": "0.0305306349"
        },
        {
         "0": "0.9528797882",
         "1": "0.1290803352",
         "2": "0.8098651406",
         "3": "0.7013259144"
        },
        {
         "0": "0.2353670942",
         "1": "0.3747876394",
         "2": "0.1984277563",
         "3": "0.7562456006"
        },
        {
         "0": "0.4318457382",
         "1": "0.9967400189",
         "2": "0.6626892965",
         "3": "0.5111869508"
        },
        {
         "0": "0.6347227693",
         "1": "0.3364181266",
         "2": "0.2003252174",
         "3": "0.5413886778"
        },
        {
         "0": "0.301056625",
         "1": "0.8239463259",
         "2": "0.7637786847",
         "3": "0.6552935262"
        },
        {
         "0": "0.4441603799",
         "1": "0.33772631",
         "2": "0.8155043986",
         "3": "0.0684821916"
        },
        {
         "0": "0.0454814866",
         "1": "0.2709726236",
         "2": "0.1246585838",
         "3": "0.6591615116"
        },
        {
         "0": "0.0347133699",
         "1": "0.712290158",
         "2": "0.9701661055",
         "3": "0.6643970613"
        },
        {
         "0": "0.9520651381",
         "1": "0.3756720204",
         "2": "0.3496562091",
         "3": "0.326323211"
        },
        {
         "0": "0.8442220001",
         "1": "0.5107899461",
         "2": "0.9026890079",
         "3": "0.542632418"
        },
        {
         "0": "0.3469760847",
         "1": "0.291368387",
         "2": "0.4082087104",
         "3": "0.5121587758"
        },
        {
         "0": "0.2882206968",
         "1": "0.2140493866",
         "2": "0.8101917324",
         "3": "0.5005469422"
        },
        {
         "0": "0.8098131526",
         "1": "0.6096458731",
         "2": "0.2106553001",
         "3": "0.872608309"
        },
        {
         "0": "0.2133706684",
         "1": "0.9415404808",
         "2": "0.8702682174",
         "3": "0.6119646008"
        },
        {
         "0": "0.1667827241",
         "1": "0.5636359806",
         "2": "0.6838634497",
         "3": "0.1785513953"
        },
        {
         "0": "0.9606328567",
         "1": "0.1011698653",
         "2": "0.735281169",
         "3": "0.71115153"
        },
        {
         "0": "0.6948295769",
         "1": "0.5487648112",
         "2": "0.5971291356",
         "3": "0.5862243401"
        },
        {
         "0": "0.2546695966",
         "1": "0.0375974165",
         "2": "0.1849253742",
         "3": "0.3152077909"
        },
        {
         "0": "0.3538690888",
         "1": "0.6923581247",
         "2": "0.3413271435",
         "3": "0.0282292001"
        },
        {
         "0": "0.6643494764",
         "1": "0.4672831538",
         "2": "0.8177161447",
         "3": "0.6303374348"
        },
        {
         "0": "0.7550330802",
         "1": "0.5106606445",
         "2": "0.2187764147",
         "3": "0.2223531448"
        },
        {
         "0": "0.1514530968",
         "1": "0.0401938695",
         "2": "0.7530073889",
         "3": "0.3690417276"
        },
        {
         "0": "0.9760685111",
         "1": "0.2832833013",
         "2": "0.4101558259",
         "3": "0.86169018"
        },
        {
         "0": "0.029854736",
         "1": "0.7877747488",
         "2": "0.231300563",
         "3": "0.9396871682"
        },
        {
         "0": "0.4360282712",
         "1": "0.4965253835",
         "2": "0.8350577337",
         "3": "0.7952136319"
        },
        {
         "0": "0.3093890857",
         "1": "0.4671693503",
         "2": "0.8715003079",
         "3": "0.8657480183"
        },
        {
         "0": "0.2456914357",
         "1": "0.3990168265",
         "2": "0.3016598867",
         "3": "0.5018761389"
        },
        {
         "0": "0.7733669024",
         "1": "0.7898400492",
         "2": "0.0546643672",
         "3": "0.6342304808"
        },
        {
         "0": "0.4355946549",
         "1": "0.2155926731",
         "2": "0.6945566396",
         "3": "0.0664768459"
        },
        {
         "0": "0.9531814884",
         "1": "0.5729141047",
         "2": "0.3284221987",
         "3": "0.0193494457"
        },
        {
         "0": "0.8554531512",
         "1": "0.404871478",
         "2": "0.8191084513",
         "3": "0.8869425224"
        },
        {
         "0": "0.223784597",
         "1": "0.6316513389",
         "2": "0.5986759678",
         "3": "0.5453828996"
        },
        {
         "0": "0.7521968015",
         "1": "0.9383241205",
         "2": "0.2683236769",
         "3": "0.9236933302"
        },
        {
         "0": "0.2538420335",
         "1": "0.3556550454",
         "2": "0.9918313814",
         "3": "0.4045929513"
        },
        {
         "0": "0.8512943399",
         "1": "0.8145754646",
         "2": "0.2300391756",
         "3": "0.7616764915"
        },
        {
         "0": "0.9089776205",
         "1": "0.0630156458",
         "2": "0.6886391518",
         "3": "0.1434188412"
        },
        {
         "0": "0.6668972843",
         "1": "0.9906466338",
         "2": "0.8830389071",
         "3": "0.1236681509"
        },
        {
         "0": "0.4101209962",
         "1": "0.7086901572",
         "2": "0.2185254136",
         "3": "0.3997955763"
        },
        {
         "0": "0.788010707",
         "1": "0.739435229",
         "2": "0.9389903778",
         "3": "0.7113562154"
        },
        {
         "0": "0.1631752383",
         "1": "0.7741475223",
         "2": "0.5724701321",
         "3": "0.8594812966"
        },
        {
         "0": "0.5457473443",
         "1": "0.3729328112",
         "2": "0.5188403923",
         "3": "0.7386824797"
        },
        {
         "0": "0.6908968028",
         "1": "0.0828062793",
         "2": "0.067233929",
         "3": "0.2467132857"
        },
        {
         "0": "0.8520623845",
         "1": "0.5969710473",
         "2": "0.7697327278",
         "3": "0.1974065865"
        },
        {
         "0": "0.2574451556",
         "1": "0.6621468831",
         "2": "0.8412805098",
         "3": "0.8651817484"
        },
        {
         "0": "0.0198152214",
         "1": "0.2443995292",
         "2": "0.2825485884",
         "3": "0.0432251139"
        },
        {
         "0": "0.5190242752",
         "1": "0.9831608668",
         "2": "0.7771341748",
         "3": "0.6718284665"
        },
        {
         "0": "0.0004103304",
         "1": "0.1207361244",
         "2": "0.958094514",
         "3": "0.4928543603"
        },
        {
         "0": "0.7656130577",
         "1": "0.9840407828",
         "2": "0.4242176295",
         "3": "0.5253199939"
        },
        {
         "0": "0.2034114064",
         "1": "0.5991055566",
         "2": "0.7023042489",
         "3": "0.4747723188"
        },
        {
         "0": "0.740090005",
         "1": "0.1727109475",
         "2": "0.4240999291",
         "3": "0.9793393433"
        },
        {
         "0": "0.2582002903",
         "1": "0.2728668187",
         "2": "0.6322054634",
         "3": "0.1523861834"
        },
        {
         "0": "0.5328537481",
         "1": "0.5311755568",
         "2": "0.7124676069",
         "3": "0.7543900409"
        },
        {
         "0": "0.4049975132",
         "1": "0.0705371232",
         "2": "0.5414349568",
         "3": "0.8602525353"
        },
        {
         "0": "0.7167405691",
         "1": "0.7655360894",
         "2": "0.5152671742",
         "3": "0.9190770436"
        },
        {
         "0": "0.8896105725",
         "1": "0.6254855075",
         "2": "0.2940967351",
         "3": "0.7109777547"
        },
        {
         "0": "0.4293142759",
         "1": "0.0750044072",
         "2": "0.8765165098",
         "3": "0.2152962282"
        },
        {
         "0": "0.2589801994",
         "1": "0.0616088181",
         "2": "0.3056520717",
         "3": "0.9823340837"
        },
        {
         "0": "0.7902310273",
         "1": "0.7894298794",
         "2": "0.482089215",
         "3": "0.6202306442"
        },
        {
         "0": "0.2246628439",
         "1": "0.1214859719",
         "2": "0.4610331194",
         "3": "0.3483662429"
        },
        {
         "0": "0.5774276344",
         "1": "0.1182897857",
         "2": "0.4131676013",
         "3": "0.6095228799"
        },
        {
         "0": "0.373249996",
         "1": "0.6762975414",
         "2": "0.919954477",
         "3": "0.6727504995"
        },
        {
         "0": "0.7117660179",
         "1": "0.7939550458",
         "2": "0.898307778",
         "3": "0.3031826215"
        },
        {
         "0": "0.5369879704",
         "1": "0.0672550684",
         "2": "0.5215812237",
         "3": "0.8497801425"
        },
        {
         "0": "0.4721997638",
         "1": "0.1823835377",
         "2": "0.6413496131",
         "3": "0.6349174852"
        },
        {
         "0": "0.1462480017",
         "1": "0.27381357",
         "2": "0.8224393469",
         "3": "0.2693787754"
        },
        {
         "0": "0.6794486645",
         "1": "0.7770121084",
         "2": "0.8183707033",
         "3": "0.3194693653"
        },
        {
         "0": "0.2625689439",
         "1": "0.8155410402",
         "2": "0.7696362131",
         "3": "0.3430597161"
        },
        {
         "0": "0.9534675119",
         "1": "0.4104432184",
         "2": "0.8006056594",
         "3": "0.0054694187"
        },
        {
         "0": "0.2269753016",
         "1": "0.3562781426",
         "2": "0.4239876725",
         "3": "0.5660547468"
        },
        {
         "0": "0.4659621875",
         "1": "0.6166765021",
         "2": "0.6519869791",
         "3": "0.8523602971"
        },
        {
         "0": "0.2248014523",
         "1": "0.8716277154",
         "2": "0.9538694917",
         "3": "0.036617369"
        },
        {
         "0": "0.0873403474",
         "1": "0.6818598658",
         "2": "0.7118099804",
         "3": "0.0272084952"
        },
        {
         "0": "0.2267511758",
         "1": "0.5093225169",
         "2": "0.2527763043",
         "3": "0.963986341"
        },
        {
         "0": "0.8588116852",
         "1": "0.010648951",
         "2": "0.8614073661",
         "3": "0.6625653274"
        },
        {
         "0": "0.4032633524",
         "1": "0.719033601",
         "2": "0.4684964405",
         "3": "0.6931989848"
        },
        {
         "0": "0.6483604621",
         "1": "0.5821755674",
         "2": "0.1163795864",
         "3": "0.8319955296"
        },
        {
         "0": "0.3316496291",
         "1": "0.7666367603",
         "2": "0.4529438656",
         "3": "0.9719452073"
        },
        {
         "0": "0.2481392309",
         "1": "0.1621616242",
         "2": "0.9205527935",
         "3": "0.074227653"
        },
        {
         "0": "0.774866926",
         "1": "0.5082087357",
         "2": "0.3810680042",
         "3": "0.0063792814"
        },
        {
         "0": "0.0049458797",
         "1": "0.5287299041",
         "2": "0.2220534846",
         "3": "0.3505697508"
        },
        {
         "0": "0.5911430582",
         "1": "0.8281272713",
         "2": "0.1055710508",
         "3": "0.3960752061"
        },
        {
         "0": "0.4691881506",
         "1": "0.5598337169",
         "2": "0.615395355",
         "3": "0.3264104859"
        },
        {
         "0": "0.526783544",
         "1": "0.8921297487",
         "2": "0.7969345925",
         "3": "0.6079284043"
        },
        {
         "0": "0.6575218282",
         "1": "0.613334469",
         "2": "0.0266743174",
         "3": "0.6794473556"
        },
        {
         "0": "0.866819058",
         "1": "0.4677564251",
         "2": "0.7806493406",
         "3": "0.849673929"
        },
        {
         "0": "0.1244648753",
         "1": "0.367711825",
         "2": "0.7477668133",
         "3": "0.0050279863"
        },
        {
         "0": "0.3269047884",
         "1": "0.8301066768",
         "2": "0.5583885615",
         "3": "0.3504309164"
        },
        {
         "0": "0.2187884073",
         "1": "0.3089030632",
         "2": "0.2606336801",
         "3": "0.199408884"
        },
        {
         "0": "0.477251158",
         "1": "0.4519491379",
         "2": "0.9390538584",
         "3": "0.2841427614"
        },
        {
         "0": "0.0837543092",
         "1": "0.7513028963",
         "2": "0.1033036554",
         "3": "0.8140028381"
        },
        {
         "0": "0.7518322565",
         "1": "0.3589132969",
         "2": "0.6260808387",
         "3": "0.5718455198"
        },
        {
         "0": "0.8393551543",
         "1": "0.9798296662",
         "2": "0.1619441134",
         "3": "0.9050804753"
        },
        {
         "0": "0.29125477",
         "1": "0.8102055466",
         "2": "0.029132319",
         "3": "0.3158557432"
        },
        {
         "0": "0.9148656321",
         "1": "0.8358907746",
         "2": "0.1395937001",
         "3": "0.1106832209"
        },
        {
         "0": "0.6462408716",
         "1": "0.2066776752",
         "2": "0.7556240037",
         "3": "0.0804999002"
        },
        {
         "0": "0.3229890299",
         "1": "0.4421092717",
         "2": "0.9774141929",
         "3": "0.4826916383"
        },
        {
         "0": "0.1989953721",
         "1": "0.6483881553",
         "2": "0.9603949241",
         "3": "0.7460398702"
        },
        {
         "0": "0.5929616245",
         "1": "0.5036138879",
         "2": "0.1864302038",
         "3": "0.3734615212"
        },
        {
         "0": "0.8606455273",
         "1": "0.9449017406",
         "2": "0.1498951412",
         "3": "0.4087176167"
        },
        {
         "0": "0.0911771235",
         "1": "0.6484436121",
         "2": "0.7448051069",
         "3": "0.47185523"
        },
        {
         "0": "0.648145377",
         "1": "0.1012850972",
         "2": "0.1196473686",
         "3": "0.8938592499"
        },
        {
         "0": "0.8586645298",
         "1": "0.4343400473",
         "2": "0.1938202497",
         "3": "0.4701398583"
        },
        {
         "0": "0.5752608568",
         "1": "0.5289492968",
         "2": "0.1709523541",
         "3": "0.8087984554"
        },
        {
         "0": "0.0409932245",
         "1": "0.7027125073",
         "2": "0.324780884",
         "3": "0.4665222548"
        },
        {
         "0": "0.8545900646",
         "1": "0.9000924844",
         "2": "0.6711822726",
         "3": "0.4637383634"
        },
        {
         "0": "0.9784349555",
         "1": "0.4781508662",
         "2": "0.3165340838",
         "3": "0.8409104059"
        },
        {
         "0": "0.0896508631",
         "1": "0.3561579879",
         "2": "0.6790375079",
         "3": "0.5768626616"
        },
        {
         "0": "0.8221471607",
         "1": "0.2204459193",
         "2": "0.6220257075",
         "3": "0.6356217585"
        },
        {
         "0": "0.965928401",
         "1": "0.7137133306",
         "2": "0.4246892424",
         "3": "0.8825389487"
        },
        {
         "0": "0.2652004178",
         "1": "0.5565624837",
         "2": "0.7138942985",
         "3": "0.043138671"
        },
        {
         "0": "0.7204906389",
         "1": "0.1930026177",
         "2": "0.5553078338",
         "3": "0.848623095"
        },
        {
         "0": "0.3137020128",
         "1": "0.0621378867",
         "2": "0.1104521743",
         "3": "0.2684826386"
        },
        {
         "0": "0.3339131616",
         "1": "0.2228605156",
         "2": "0.9302085063",
         "3": "0.1896992172"
        },
        {
         "0": "0.4737188101",
         "1": "0.2764991696",
         "2": "0.918582911",
         "3": "0.9077321559"
        },
        {
         "0": "0.1643675357",
         "1": "0.4135036346",
         "2": "0.119111063",
         "3": "0.5546038844"
        },
        {
         "0": "0.4779404086",
         "1": "0.2669923501",
         "2": "0.6314602368",
         "3": "0.4501507981"
        },
        {
         "0": "0.7526728792",
         "1": "0.6235832862",
         "2": "0.0709503987",
         "3": "0.6533879557"
        },
        {
         "0": "0.543147485",
         "1": "0.6121835003",
         "2": "0.1687261651",
         "3": "0.3172179765"
        },
        {
         "0": "0.2273371618",
         "1": "0.8656801535",
         "2": "0.5827248248",
         "3": "0.073283069"
        },
        {
         "0": "0.1261149125",
         "1": "0.5706376313",
         "2": "0.2809869749",
         "3": "0.9582441234"
        },
        {
         "0": "0.5968739274",
         "1": "0.3954210077",
         "2": "0.9988692472",
         "3": "0.3782743031"
        },
        {
         "0": "0.7771754323",
         "1": "0.2697182153",
         "2": "0.6403988986",
         "3": "0.3213705442"
        },
        {
         "0": "0.5932214493",
         "1": "0.6959371751",
         "2": "0.8182378702",
         "3": "0.8425875764"
        },
        {
         "0": "0.615032376",
         "1": "0.8300438489",
         "2": "0.0119418532",
         "3": "0.8647488664"
        },
        {
         "0": "0.2029326068",
         "1": "0.2501485916",
         "2": "0.2011281373",
         "3": "0.0372109699"
        },
        {
         "0": "0.6863936364",
         "1": "0.3761179178",
         "2": "0.2828199238",
         "3": "0.2624568911"
        },
        {
         "0": "0.4965672155",
         "1": "0.7675916426",
         "2": "0.3887971211",
         "3": "0.9408961705"
        },
        {
         "0": "0.1411093274",
         "1": "0.7667366429",
         "2": "0.5154150569",
         "3": "0.887115517"
        },
        {
         "0": "0.3251772753",
         "1": "0.1381080497",
         "2": "0.8817286203",
         "3": "0.8923770436"
        },
        {
         "0": "0.1311841525",
         "1": "0.4724813744",
         "2": "0.6965185434",
         "3": "0.8809271528"
        },
        {
         "0": "0.9545553958",
         "1": "0.691155506",
         "2": "0.3461363476",
         "3": "0.4577135252"
        },
        {
         "0": "0.6040086416",
         "1": "0.4049278321",
         "2": "0.557633556",
         "3": "0.4584690061"
        },
        {
         "0": "0.3664279387",
         "1": "0.9210977638",
         "2": "0.9259396185",
         "3": "0.6187373591"
        },
        {
         "0": "0.6926921671",
         "1": "0.7056455179",
         "2": "0.4943312426",
         "3": "0.7895438902"
        },
        {
         "0": "0.5052823855",
         "1": "0.2710602046",
         "2": "0.8116754606",
         "3": "0.1356506304"
        },
        {
         "0": "0.7323902276",
         "1": "0.7698002361",
         "2": "0.7134901596",
         "3": "0.1641449078"
        },
        {
         "0": "0.1325958515",
         "1": "0.6448587",
         "2": "0.0442081924",
         "3": "0.7185432989"
        },
        {
         "0": "0.8081759656",
         "1": "0.4584166186",
         "2": "0.934434926",
         "3": "0.494265934"
        },
        {
         "0": "0.5771885975",
         "1": "0.5881467178",
         "2": "0.6399022164",
         "3": "0.3771869575"
        },
        {
         "0": "0.4875835208",
         "1": "0.3181298712",
         "2": "0.9047263035",
         "3": "0.0435300345"
        },
        {
         "0": "0.042248321",
         "1": "0.7216713055",
         "2": "0.7702251486",
         "3": "0.1466052016"
        },
        {
         "0": "0.9068051063",
         "1": "0.7142423782",
         "2": "0.6492463523",
         "3": "0.808953715"
        },
        {
         "0": "0.2250984411",
         "1": "0.714232693",
         "2": "0.8863034808",
         "3": "0.2775166391"
        },
        {
         "0": "0.9276540591",
         "1": "0.9472178957",
         "2": "0.3238547494",
         "3": "0.5313974196"
        },
        {
         "0": "0.7775026249",
         "1": "0.3664161079",
         "2": "0.8913507785",
         "3": "0.7129585366"
        },
        {
         "0": "0.7018046186",
         "1": "0.4754051552",
         "2": "0.1483109718",
         "3": "0.9629058013"
        },
        {
         "0": "0.6894417967",
         "1": "0.4753561276",
         "2": "0.2706518176",
         "3": "0.4198003291"
        },
        {
         "0": "0.7953742832",
         "1": "0.0176073213",
         "2": "0.9239257374",
         "3": "0.9132899084"
        },
        {
         "0": "0.8191848787",
         "1": "0.7118868983",
         "2": "0.1471902329",
         "3": "0.146487856"
        },
        {
         "0": "0.0453394085",
         "1": "0.0740381671",
         "2": "0.0372027757",
         "3": "0.5006006274"
        },
        {
         "0": "0.3441192305",
         "1": "0.8987140283",
         "2": "0.1970209324",
         "3": "0.5139830272"
        },
        {
         "0": "0.0998541295",
         "1": "0.3898651747",
         "2": "0.4045296269",
         "3": "0.0103923759"
        },
        {
         "0": "0.9888796717",
         "1": "0.7490090896",
         "2": "0.2596294187",
         "3": "0.4584345986"
        },
        {
         "0": "0.4570011448",
         "1": "0.6806642082",
         "2": "0.3941616552",
         "3": "0.4093263902"
        },
        {
         "0": "0.2287074207",
         "1": "0.4961988524",
         "2": "0.0457654441",
         "3": "0.6340760638"
        },
        {
         "0": "0.2919710137",
         "1": "0.2327864193",
         "2": "0.4593479168",
         "3": "0.8055340312"
        },
        {
         "0": "0.1547205535",
         "1": "0.132605002",
         "2": "0.3000541833",
         "3": "0.6263173704"
        },
        {
         "0": "0.3855935973",
         "1": "0.1600210734",
         "2": "0.1192711036",
         "3": "0.6364894058"
        },
        {
         "0": "0.5165874703",
         "1": "0.1058953656",
         "2": "0.8360276119",
         "3": "0.542524191"
        },
        {
         "0": "0.0650614564",
         "1": "0.2624350465",
         "2": "0.605993893",
         "3": "0.2082455356"
        },
        {
         "0": "0.5270193642",
         "1": "0.8237728231",
         "2": "0.2892156336",
         "3": "0.8873126339"
        },
        {
         "0": "0.1891948436",
         "1": "0.2734731378",
         "2": "0.5558426186",
         "3": "0.2613028597"
        },
        {
         "0": "0.9560313727",
         "1": "0.2323345531",
         "2": "0.7109228911",
         "3": "0.0052982628"
        },
        {
         "0": "0.5869974307",
         "1": "0.5518391087",
         "2": "0.9631838302",
         "3": "0.8748224414"
        },
        {
         "0": "0.8394707823",
         "1": "0.1464956851",
         "2": "0.4249665287",
         "3": "0.6479642066"
        },
        {
         "0": "0.1759506757",
         "1": "0.270795313",
         "2": "0.7845760831",
         "3": "0.4745584619"
        },
        {
         "0": "0.48854926",
         "1": "0.125857025",
         "2": "0.8052540178",
         "3": "0.4192898557"
        },
        {
         "0": "0.6212556966",
         "1": "0.3972358182",
         "2": "0.0728739915",
         "3": "0.9018901763"
        },
        {
         "0": "0.8087439286",
         "1": "0.2211913356",
         "2": "0.2582359455",
         "3": "0.3060315321"
        },
        {
         "0": "0.8124836819",
         "1": "0.7059634349",
         "2": "0.1359994202",
         "3": "0.1643630703"
        },
        {
         "0": "0.1127081657",
         "1": "0.8985217621",
         "2": "0.6047830755",
         "3": "0.5780567207"
        },
        {
         "0": "0.2478577942",
         "1": "0.29551453",
         "2": "0.5819979511",
         "3": "0.4515276838"
        },
        {
         "0": "0.9341867123",
         "1": "0.5241038122",
         "2": "0.7349093167",
         "3": "0.1082130752"
        },
        {
         "0": "0.9694565802",
         "1": "0.7256657249",
         "2": "0.4405418455",
         "3": "0.3452875477"
        },
        {
         "0": "0.6670885234",
         "1": "0.7464035694",
         "2": "0.8968707151",
         "3": "0.2346067831"
        },
        {
         "0": "0.8787477148",
         "1": "0.3820328245",
         "2": "0.456379689",
         "3": "0.6485079931"
        },
        {
         "0": "0.6424404544",
         "1": "0.5761307478",
         "2": "0.4331408926",
         "3": "0.8070040992"
        },
        {
         "0": "0.8211851866",
         "1": "0.458036129",
         "2": "0.8996929366",
         "3": "0.5713664528"
        },
        {
         "0": "0.2120639736",
         "1": "0.3912268103",
         "2": "0.9493983929",
         "3": "0.5071785967"
        },
        {
         "0": "0.1940670048",
         "1": "0.6150799843",
         "2": "0.2883587773",
         "3": "0.9708823993"
        },
        {
         "0": "0.8040167614",
         "1": "0.65479169",
         "2": "0.5242140388",
         "3": "0.0087802055"
        },
        {
         "0": "0.2208242604",
         "1": "0.1153542403",
         "2": "0.0878115246",
         "3": "0.4383160577"
        },
        {
         "0": "0.7728123968",
         "1": "0.8042828334",
         "2": "0.7786907152",
         "3": "0.3898857005"
        },
        {
         "0": "0.0104861117",
         "1": "0.6727799168",
         "2": "0.0768180463",
         "3": "0.9567609277"
        },
        {
         "0": "0.2668864381",
         "1": "0.1452568827",
         "2": "0.5707392691",
         "3": "0.9280439721"
        },
        {
         "0": "0.0306102818",
         "1": "0.9055360655",
         "2": "0.0348874901",
         "3": "0.0571426903"
        },
        {
         "0": "0.8886345174",
         "1": "0.7309503027",
         "2": "0.477686237",
         "3": "0.5670174424"
        },
        {
         "0": "0.8382970567",
         "1": "0.34554793",
         "2": "0.372347616",
         "3": "0.1813898979"
        },
        {
         "0": "0.9047848891",
         "1": "0.7989647025",
         "2": "0.1401466581",
         "3": "0.5676980198"
        },
        {
         "0": "0.3225703348",
         "1": "0.8675623093",
         "2": "0.9853490868",
         "3": "0.3313521731"
        },
        {
         "0": "0.8833118951",
         "1": "0.2219826714",
         "2": "0.4053942168",
         "3": "0.7460413092"
        },
        {
         "0": "0.6440770031",
         "1": "0.6146438381",
         "2": "0.270259534",
         "3": "0.6517116434"
        },
        {
         "0": "0.4370008773",
         "1": "0.1956640334",
         "2": "0.6307740961",
         "3": "0.1330057276"
        },
        {
         "0": "0.0255459845",
         "1": "0.1325933765",
         "2": "0.3306395801",
         "3": "0.6783486119"
        },
        {
         "0": "0.1174576087",
         "1": "0.0465529769",
         "2": "0.0157049608",
         "3": "0.3324721624"
        },
        {
         "0": "0.9446708946",
         "1": "0.7922202277",
         "2": "0.1353211581",
         "3": "0.5680680471"
        },
        {
         "0": "0.9981105345",
         "1": "0.178953877",
         "2": "0.4148908592",
         "3": "0.9787571737"
        },
        {
         "0": "0.2182957368",
         "1": "0.1136939877",
         "2": "0.4712035902",
         "3": "0.581033186"
        },
        {
         "0": "0.3158753509",
         "1": "0.5087666581",
         "2": "0.9491777162",
         "3": "0.4525860098"
        },
        {
         "0": "0.526006834",
         "1": "0.7165350507",
         "2": "0.4145499033",
         "3": "0.9405637897"
        },
        {
         "0": "0.6270735199",
         "1": "0.0142960882",
         "2": "0.3554936",
         "3": "0.4711073913"
        },
        {
         "0": "0.4921674244",
         "1": "0.7918069585",
         "2": "0.0454397555",
         "3": "0.1412682756"
        },
        {
         "0": "0.9551074995",
         "1": "0.7609084607",
         "2": "0.7517853979",
         "3": "0.9362533191"
        },
        {
         "0": "0.2664905284",
         "1": "0.1066064506",
         "2": "0.6595673397",
         "3": "0.8182263626"
        },
        {
         "0": "0.7134956284",
         "1": "0.7928886407",
         "2": "0.165443491",
         "3": "0.4611257007"
        },
        {
         "0": "0.216890924",
         "1": "0.2876463167",
         "2": "0.9657542611",
         "3": "0.9395317858"
        },
        {
         "0": "0.771934365",
         "1": "0.4735417641",
         "2": "0.3997473956",
         "3": "0.4672920918"
        },
        {
         "0": "0.0558584693",
         "1": "0.5263535148",
         "2": "0.5470407265",
         "3": "0.9196145813"
        },
        {
         "0": "0.323384543",
         "1": "0.3180589338",
         "2": "0.6077424227",
         "3": "0.5865738778"
        },
        {
         "0": "0.7652566347",
         "1": "0.5818215552",
         "2": "0.5172069398",
         "3": "0.1859916365"
        },
        {
         "0": "0.0034684801",
         "1": "0.2225896796",
         "2": "0.9862480175",
         "3": "0.1398200048"
        },
        {
         "0": "0.5017790922",
         "1": "0.4077344132",
         "2": "0.0578690218",
         "3": "0.0234634634"
        },
        {
         "0": "0.5899299631",
         "1": "0.934706366",
         "2": "0.1001777929",
         "3": "0.0503118973"
        },
        {
         "0": "0.7552541885",
         "1": "0.8692659914",
         "2": "0.1957645607",
         "3": "0.38721359"
        },
        {
         "0": "0.0206543454",
         "1": "0.5187027132",
         "2": "0.9875380926",
         "3": "0.3013184845"
        },
        {
         "0": "0.6514969381",
         "1": "0.4607204073",
         "2": "0.5944427545",
         "3": "0.6954838811"
        },
        {
         "0": "0.9185130194",
         "1": "0.0429310608",
         "2": "0.8363748904",
         "3": "0.9169946702"
        },
        {
         "0": "0.0157599073",
         "1": "0.6247692944",
         "2": "0.0903826762",
         "3": "0.0515792428"
        },
        {
         "0": "0.8607637729",
         "1": "0.9736616782",
         "2": "0.0811182709",
         "3": "0.8665656921"
        },
        {
         "0": "0.6667449727",
         "1": "0.7696471976",
         "2": "0.6545167484",
         "3": "0.1836352141"
        },
        {
         "0": "0.1489041538",
         "1": "0.5882642074",
         "2": "0.4748832403",
         "3": "0.1401242765"
        },
        {
         "0": "0.9226772235",
         "1": "0.5110406597",
         "2": "0.5694788038",
         "3": "0.7467927879"
        },
        {
         "0": "0.2113153906",
         "1": "0.6825600858",
         "2": "0.7125768055",
         "3": "0.4083258145"
        },
        {
         "0": "0.6067351237",
         "1": "0.5936720759",
         "2": "0.1295632627",
         "3": "0.3989520839"
        },
        {
         "0": "0.0750342381",
         "1": "0.7692901399",
         "2": "0.5080248599",
         "3": "0.1132694831"
        },
        {
         "0": "0.6779853647",
         "1": "0.8785368745",
         "2": "0.2449159218",
         "3": "0.6984978366"
        },
        {
         "0": "0.5639290843",
         "1": "0.1342993393",
         "2": "0.4187971261",
         "3": "0.1151103703"
        },
        {
         "0": "0.47719487",
         "1": "0.6686902338",
         "2": "0.094367366",
         "3": "0.2832346512"
        },
        {
         "0": "0.1138950779",
         "1": "0.9548819478",
         "2": "0.4316207992",
         "3": "0.1326014134"
        },
        {
         "0": "0.6933840471",
         "1": "0.8569772316",
         "2": "0.9438136874",
         "3": "0.2550298038"
        },
        {
         "0": "0.7667432308",
         "1": "0.7092661191",
         "2": "0.2046752542",
         "3": "0.0040905816"
        },
        {
         "0": "0.6033640307",
         "1": "0.519478258",
         "2": "0.2698023444",
         "3": "0.0252733854"
        },
        {
         "0": "0.7500958618",
         "1": "0.6816089568",
         "2": "0.0628844153",
         "3": "0.6625546198"
        },
        {
         "0": "0.1407681436",
         "1": "0.40002472",
         "2": "0.3986400215",
         "3": "0.8623595205"
        },
        {
         "0": "0.9090503531",
         "1": "0.7341407574",
         "2": "0.2062752146",
         "3": "0.0226669335"
        },
        {
         "0": "0.1416446902",
         "1": "0.4666348256",
         "2": "0.1922664939",
         "3": "0.6895759194"
        },
        {
         "0": "0.6384146831",
         "1": "0.8267776768",
         "2": "0.8248241917",
         "3": "0.966791317"
        },
        {
         "0": "0.599528645",
         "1": "0.6128661293",
         "2": "0.8076508959",
         "3": "0.5643091139"
        },
        {
         "0": "0.3660885062",
         "1": "0.6516894444",
         "2": "0.0827970602",
         "3": "0.0249468158"
        },
        {
         "0": "0.5343084902",
         "1": "0.449004103",
         "2": "0.5485797015",
         "3": "0.877074606"
        },
        {
         "0": "0.7591888503",
         "1": "0.7641772822",
         "2": "0.8627631867",
         "3": "0.7905881494"
        },
        {
         "0": "0.1164629826",
         "1": "0.7125861148",
         "2": "0.1785089384",
         "3": "0.04990461"
        },
        {
         "0": "0.5736399772",
         "1": "0.247799459",
         "2": "0.8353495306",
         "3": "0.6098353636"
        },
        {
         "0": "0.399958911",
         "1": "0.3875513807",
         "2": "0.320666789",
         "3": "0.8621821105"
        },
        {
         "0": "0.1696344269",
         "1": "0.1655588529",
         "2": "0.0047100427",
         "3": "0.0368038115"
        },
        {
         "0": "0.8913913192",
         "1": "0.4931553146",
         "2": "0.7212555101",
         "3": "0.5351679895"
        },
        {
         "0": "0.1926095211",
         "1": "0.8894977793",
         "2": "0.9277896033",
         "3": "0.9266292288"
        },
        {
         "0": "0.8024400171",
         "1": "0.157282264",
         "2": "0.6311310615",
         "3": "0.8940669251"
        },
        {
         "0": "0.1304064101",
         "1": "0.4759892417",
         "2": "0.404747668",
         "3": "0.8151863456"
        },
        {
         "0": "0.9904753132",
         "1": "0.1929664787",
         "2": "0.6649932127",
         "3": "0.3890716244"
        },
        {
         "0": "0.0683595023",
         "1": "0.9179509324",
         "2": "0.9997085419",
         "3": "0.0050160894"
        },
        {
         "0": "0.2284112907",
         "1": "0.203495705",
         "2": "0.9053407127",
         "3": "0.2912947113"
        },
        {
         "0": "0.238074123",
         "1": "0.7433707241",
         "2": "0.2797207562",
         "3": "0.7055119549"
        },
        {
         "0": "0.2980015748",
         "1": "0.1528124912",
         "2": "0.2922351759",
         "3": "0.4744831733"
        },
        {
         "0": "0.9323151647",
         "1": "0.9016005666",
         "2": "0.0485929572",
         "3": "0.4040675836"
        },
        {
         "0": "0.0020015859",
         "1": "0.8573856735",
         "2": "0.8356306189",
         "3": "0.2713467491"
        },
        {
         "0": "0.6476158569",
         "1": "0.7619325435",
         "2": "0.9387844644",
         "3": "0.5025693523"
        },
        {
         "0": "0.3571296727",
         "1": "0.355350131",
         "2": "0.6846636603",
         "3": "0.3529193027"
        },
        {
         "0": "0.9528744981",
         "1": "0.9070040481",
         "2": "0.7922686555",
         "3": "0.6442300436"
        },
        {
         "0": "0.4259404535",
         "1": "0.7635686751",
         "2": "0.0398661961",
         "3": "0.8501629086"
        },
        {
         "0": "0.1615199235",
         "1": "0.0276445736",
         "2": "0.9940414224",
         "3": "0.3014553175"
        },
        {
         "0": "0.8192631973",
         "1": "0.5315304397",
         "2": "0.8819242518",
         "3": "0.7140853094"
        },
        {
         "0": "0.3640049949",
         "1": "0.8916802473",
         "2": "0.6106908937",
         "3": "0.1986008494"
        },
        {
         "0": "0.032414018",
         "1": "0.5997948104",
         "2": "0.3459077816",
         "3": "0.8429274697"
        },
        {
         "0": "0.8602966209",
         "1": "0.7498450749",
         "2": "0.7249159225",
         "3": "0.3674775151"
        },
        {
         "0": "0.1247974732",
         "1": "0.7900804646",
         "2": "0.5590618643",
         "3": "0.6957290108"
        },
        {
         "0": "0.4226547765",
         "1": "0.7662131048",
         "2": "0.0314974785",
         "3": "0.7126390472"
        },
        {
         "0": "0.7179609455",
         "1": "0.4443366399",
         "2": "0.7338197076",
         "3": "0.6198705088"
        },
        {
         "0": "0.9130079792",
         "1": "0.3881422017",
         "2": "0.9204914884",
         "3": "0.7782865288"
        },
        {
         "0": "0.9446157546",
         "1": "0.8229203899",
         "2": "0.3781540873",
         "3": "0.9474516986"
        },
        {
         "0": "0.4692270195",
         "1": "0.3624411531",
         "2": "0.9440792553",
         "3": "0.6632688289"
        },
        {
         "0": "0.3572959328",
         "1": "0.0909493196",
         "2": "0.689499368",
         "3": "0.6604239544"
        },
        {
         "0": "0.8295230947",
         "1": "0.3798704368",
         "2": "0.2197841808",
         "3": "0.9845319112"
        },
        {
         "0": "0.9054097737",
         "1": "0.6795244921",
         "2": "0.8058227025",
         "3": "0.8620535192"
        },
        {
         "0": "0.4720695465",
         "1": "0.9877578985",
         "2": "0.3120038138",
         "3": "0.4274016881"
        },
        {
         "0": "0.3788613591",
         "1": "0.2284090246",
         "2": "0.1931389765",
         "3": "0.5346905138"
        },
        {
         "0": "0.8023224676",
         "1": "0.2998305555",
         "2": "0.2302798656",
         "3": "0.3728021219"
        },
        {
         "0": "0.2304818792",
         "1": "0.6705989422",
         "2": "0.7782382572",
         "3": "0.4145383754"
        },
        {
         "0": "0.7865979675",
         "1": "0.6256642699",
         "2": "0.6975970326",
         "3": "0.330470393"
        },
        {
         "0": "0.2804152527",
         "1": "0.7506842663",
         "2": "0.9350917859",
         "3": "0.8731861912"
        },
        {
         "0": "0.7733320317",
         "1": "0.0683063121",
         "2": "0.727537719",
         "3": "0.8243956448"
        },
        {
         "0": "0.8000717022",
         "1": "0.9827480236",
         "2": "0.1093131544",
         "3": "0.7646403326"
        },
        {
         "0": "0.1590165021",
         "1": "0.9607869193",
         "2": "0.7672418492",
         "3": "0.8857690961"
        },
        {
         "0": "0.3907783071",
         "1": "0.2656650281",
         "2": "0.7247651263",
         "3": "0.8703459055"
        },
        {
         "0": "0.4684441051",
         "1": "0.5035851734",
         "2": "0.7273267278",
         "3": "0.4386595809"
        },
        {
         "0": "0.6082661743",
         "1": "0.8835487969",
         "2": "0.2648075784",
         "3": "0.5097528203"
        },
        {
         "0": "0.1688589217",
         "1": "0.4587933229",
         "2": "0.068223892",
         "3": "0.6944061277"
        },
        {
         "0": "0.8845023252",
         "1": "0.3562674258",
         "2": "0.2485471247",
         "3": "0.9286656127"
        },
        {
         "0": "0.69199129",
         "1": "0.5259267799",
         "2": "0.5028362151",
         "3": "0.7758761896"
        },
        {
         "0": "0.0907289073",
         "1": "0.2754248704",
         "2": "0.8794451",
         "3": "0.592942505"
        },
        {
         "0": "0.8045417151",
         "1": "0.7173321842",
         "2": "0.4009746133",
         "3": "0.3576329066"
        },
        {
         "0": "0.859295614",
         "1": "0.8885466867",
         "2": "0.6652781417",
         "3": "0.466189259"
        },
        {
         "0": "0.9406255815",
         "1": "0.9535348494",
         "2": "0.8566780449",
         "3": "0.0914757262"
        },
        {
         "0": "0.2113443858",
         "1": "0.3787090719",
         "2": "0.8918450302",
         "3": "0.8756071157"
        },
        {
         "0": "0.1705644613",
         "1": "0.5947167672",
         "2": "0.4271373917",
         "3": "0.8231253768"
        },
        {
         "0": "0.6816965031",
         "1": "0.9174242884",
         "2": "0.9433745514",
         "3": "0.3850430221"
        },
        {
         "0": "0.1320073131",
         "1": "0.9544252195",
         "2": "0.9253057444",
         "3": "0.1733098029"
        },
        {
         "0": "0.1797299074",
         "1": "0.5798737457",
         "2": "0.4904506543",
         "3": "0.0727351654"
        },
        {
         "0": "0.4686355912",
         "1": "0.1502944454",
         "2": "0.4627807168",
         "3": "0.8070448038"
        },
        {
         "0": "0.7574896575",
         "1": "0.9824889392",
         "2": "0.4813143896",
         "3": "0.2569374663"
        },
        {
         "0": "0.9031624054",
         "1": "0.654017986",
         "2": "0.5756477984",
         "3": "0.9000180985"
        },
        {
         "0": "0.7067788682",
         "1": "0.5290013507",
         "2": "0.2721457783",
         "3": "0.6480582222"
        },
        {
         "0": "0.5257555048",
         "1": "0.8202277041",
         "2": "0.9755252443",
         "3": "0.0915066899"
        },
        {
         "0": "0.2941118779",
         "1": "0.3160354014",
         "2": "0.079383512",
         "3": "0.9284536478"
        },
        {
         "0": "0.3739355907",
         "1": "0.0365442016",
         "2": "0.6739743289",
         "3": "0.9528120973"
        },
        {
         "0": "0.29419617",
         "1": "0.51805441",
         "2": "0.9045835653",
         "3": "0.7490505883"
        },
        {
         "0": "0.5310119648",
         "1": "0.6208203268",
         "2": "0.4742606286",
         "3": "0.3676507759"
        },
        {
         "0": "0.5125560598",
         "1": "0.7230868178",
         "2": "0.2169032689",
         "3": "0.7029765452"
        },
        {
         "0": "0.2327168465",
         "1": "0.6364277654",
         "2": "0.2795775063",
         "3": "0.2811043827"
        },
        {
         "0": "0.8979887687",
         "1": "0.1998743986",
         "2": "0.0861396746",
         "3": "0.9648494063"
        },
        {
         "0": "0.1294458122",
         "1": "0.7281358242",
         "2": "0.8211700518",
         "3": "0.1424927984"
        },
        {
         "0": "0.5248705106",
         "1": "0.0523520223",
         "2": "0.694737517",
         "3": "0.3417365274"
        },
        {
         "0": "0.105957432",
         "1": "0.0782661771",
         "2": "0.353377834",
         "3": "0.4264573065"
        },
        {
         "0": "0.0500096057",
         "1": "0.0185148967",
         "2": "0.9413608403",
         "3": "0.7916105872"
        },
        {
         "0": "0.1786432061",
         "1": "0.3188072878",
         "2": "0.6071840694",
         "3": "0.8248621694"
        },
        {
         "0": "0.9414648898",
         "1": "0.4785030348",
         "2": "0.518844072",
         "3": "0.3565413326"
        },
        {
         "0": "0.1221956145",
         "1": "0.2269356501",
         "2": "0.7331870796",
         "3": "0.0028505502"
        },
        {
         "0": "0.5716554933",
         "1": "0.6233114984",
         "2": "0.5790584042",
         "3": "0.2773603021"
        },
        {
         "0": "0.1730667946",
         "1": "0.4564347627",
         "2": "0.8621081972",
         "3": "0.273265762"
        },
        {
         "0": "0.1009983871",
         "1": "0.8963154206",
         "2": "0.2995006491",
         "3": "0.2507624147"
        },
        {
         "0": "0.2215100698",
         "1": "0.2096828649",
         "2": "0.1735729661",
         "3": "0.903781264"
        },
        {
         "0": "0.3330121683",
         "1": "0.267720718",
         "2": "0.1360347054",
         "3": "0.614333623"
        },
        {
         "0": "0.8755253115",
         "1": "0.4478623642",
         "2": "0.5069228873",
         "3": "0.1761689228"
        },
        {
         "0": "0.4360566522",
         "1": "0.8249506306",
         "2": "0.6928263689",
         "3": "0.9157745832"
        },
        {
         "0": "0.7044681125",
         "1": "0.7095402004",
         "2": "0.0572922132",
         "3": "0.0340486829"
        },
        {
         "0": "0.8839520511",
         "1": "0.6504324482",
         "2": "0.3794442442",
         "3": "0.2141871103"
        },
        {
         "0": "0.3967513211",
         "1": "0.3325872301",
         "2": "0.3140587875",
         "3": "0.0779977145"
        },
        {
         "0": "0.7015490556",
         "1": "0.5156822991",
         "2": "0.2318011768",
         "3": "0.7166130113"
        },
        {
         "0": "0.8214439605",
         "1": "0.4407717872",
         "2": "0.3732999336",
         "3": "0.0608373783"
        },
        {
         "0": "0.3814907119",
         "1": "0.7550155142",
         "2": "0.4606977006",
         "3": "0.279687244"
        },
        {
         "0": "0.4810015128",
         "1": "0.5713080743",
         "2": "0.9571267966",
         "3": "0.7911382385"
        },
        {
         "0": "0.1399830435",
         "1": "0.3347918696",
         "2": "0.396570179",
         "3": "0.5270438421"
        },
        {
         "0": "0.4043555406",
         "1": "0.5788249986",
         "2": "0.1258690073",
         "3": "0.3861265257"
        },
        {
         "0": "0.8389573879",
         "1": "0.8884923",
         "2": "0.8540078804",
         "3": "0.2580059326"
        },
        {
         "0": "0.567489927",
         "1": "0.3935703215",
         "2": "0.5123037666",
         "3": "0.0829782561"
        },
        {
         "0": "0.6649010292",
         "1": "0.5047397207",
         "2": "0.4455378085",
         "3": "0.0879717647"
        },
        {
         "0": "0.7419214078",
         "1": "0.126242596",
         "2": "0.9996070356",
         "3": "0.0656406872"
        },
        {
         "0": "0.3205716608",
         "1": "0.3165993578",
         "2": "0.1545928953",
         "3": "0.8581764857"
        },
        {
         "0": "0.0930133473",
         "1": "0.0293350078",
         "2": "0.6565556741",
         "3": "0.5739346723"
        },
        {
         "0": "0.0452624535",
         "1": "0.8117784059",
         "2": "0.5066344308",
         "3": "0.8059965417"
        },
        {
         "0": "0.8019082609",
         "1": "0.107008973",
         "2": "0.7204698408",
         "3": "0.7683031151"
        },
        {
         "0": "0.0209619902",
         "1": "0.4251819274",
         "2": "0.2559741974",
         "3": "0.7306897745"
        },
        {
         "0": "0.2779619154",
         "1": "0.8492620183",
         "2": "0.3453713225",
         "3": "0.1594378021"
        },
        {
         "0": "0.7189442675",
         "1": "0.8200795519",
         "2": "0.5656964635",
         "3": "0.3874546949"
        },
        {
         "0": "0.8268401142",
         "1": "0.2338659328",
         "2": "0.2845078925",
         "3": "0.9406006062"
        },
        {
         "0": "0.230392405",
         "1": "0.7614423914",
         "2": "0.9392894531",
         "3": "0.9085208492"
        },
        {
         "0": "0.2983872919",
         "1": "0.577983841",
         "2": "0.8325117429",
         "3": "0.9899463893"
        },
        {
         "0": "0.8326874857",
         "1": "0.4784419176",
         "2": "0.4577629376",
         "3": "0.6361698618"
        },
        {
         "0": "0.2226103596",
         "1": "0.7416746801",
         "2": "0.2454421585",
         "3": "0.5807856723"
        },
        {
         "0": "0.957149102",
         "1": "0.6511369553",
         "2": "0.4111854565",
         "3": "0.866221428"
        },
        {
         "0": "0.2824314673",
         "1": "0.4507337841",
         "2": "0.7588600506",
         "3": "0.0039656562"
        },
        {
         "0": "0.0705118832",
         "1": "0.4761351008",
         "2": "0.5804476242",
         "3": "0.3893672504"
        },
        {
         "0": "0.6041561818",
         "1": "0.8835940935",
         "2": "0.8868809586",
         "3": "0.4961847797"
        },
        {
         "0": "0.6759397175",
         "1": "0.0340093592",
         "2": "0.4591437325",
         "3": "0.2819489882"
        },
        {
         "0": "0.5848526421",
         "1": "0.0630186415",
         "2": "0.7352196908",
         "3": "0.8726649543"
        },
        {
         "0": "0.3540005827",
         "1": "0.3903304092",
         "2": "0.7778206461",
         "3": "0.296387344"
        },
        {
         "0": "0.2523841429",
         "1": "0.5984939738",
         "2": "0.1774581341",
         "3": "0.0530075443"
        },
        {
         "0": "0.4954938297",
         "1": "0.0587526403",
         "2": "0.3935041707",
         "3": "0.4328594912"
        },
        {
         "0": "0.9197968567",
         "1": "0.5157119691",
         "2": "0.0337185306",
         "3": "0.5043298886"
        },
        {
         "0": "0.2989332114",
         "1": "0.7034343833",
         "2": "0.2026921006",
         "3": "0.6432289937"
        },
        {
         "0": "0.7779676203",
         "1": "0.6106893018",
         "2": "0.9000420564",
         "3": "0.0277959707"
        },
        {
         "0": "0.690483349",
         "1": "0.2790190886",
         "2": "0.094857519",
         "3": "0.8814594722"
        },
        {
         "0": "0.5235313635",
         "1": "0.2361005871",
         "2": "0.9546586611",
         "3": "0.3497260033"
        },
        {
         "0": "0.1134144511",
         "1": "0.2428371284",
         "2": "0.9337047983",
         "3": "0.6507089883"
        },
        {
         "0": "0.688180997",
         "1": "0.5354244136",
         "2": "0.0769621161",
         "3": "0.4266233418"
        },
        {
         "0": "0.6924697609",
         "1": "0.2378552091",
         "2": "0.8706017587",
         "3": "0.0758126637"
        },
        {
         "0": "0.5287047461",
         "1": "0.2261218172",
         "2": "0.0558346545",
         "3": "0.1319617598"
        },
        {
         "0": "0.3247295924",
         "1": "0.2152011238",
         "2": "0.9353024164",
         "3": "0.794114798"
        },
        {
         "0": "0.1180358736",
         "1": "0.2645743906",
         "2": "0.6292058447",
         "3": "0.824062003"
        },
        {
         "0": "0.2270213278",
         "1": "0.6602085013",
         "2": "0.8513526299",
         "3": "0.4786758954"
        },
        {
         "0": "0.4661570022",
         "1": "0.7529998155",
         "2": "0.1153908718",
         "3": "0.2797118392"
        }
       ],
       "schema": [
        {
         "key": "0",
         "name": "a",
         "type": "double"
        },
        {
         "key": "1",
         "name": "b",
         "type": "double"
        },
        {
         "key": "2",
         "name": "c",
         "type": "double"
        },
        {
         "key": "3",
         "name": "d",
         "type": "double"
        }
       ],
       "truncated": false
      },
      "wranglerEntryContext": {
       "candidateVariableNames": [
        "df3"
       ],
       "dataframeType": "pandas"
      }
     },
     "type": "Synapse.DataFrame"
    }
   },
   "version": "0.1"
  }
 },
 "nbformat": 4,
 "nbformat_minor": 5
}
